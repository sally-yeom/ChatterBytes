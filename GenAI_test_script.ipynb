{
 "cells": [
  {
   "cell_type": "code",
   "execution_count": 0,
   "metadata": {
    "application/vnd.databricks.v1+cell": {
     "cellMetadata": {
      "byteLimit": 2048000,
      "rowLimit": 10000
     },
     "inputWidgets": {},
     "nuid": "272b579c-b6fa-4c32-be29-eb4fe8987e78",
     "showTitle": false,
     "title": ""
    }
   },
   "outputs": [
    {
     "output_type": "display_data",
     "data": {
      "text/html": [
       "<style scoped>\n",
       "  .table-result-container {\n",
       "    max-height: 300px;\n",
       "    overflow: auto;\n",
       "  }\n",
       "  table, th, td {\n",
       "    border: 1px solid black;\n",
       "    border-collapse: collapse;\n",
       "  }\n",
       "  th, td {\n",
       "    padding: 5px;\n",
       "  }\n",
       "  th {\n",
       "    text-align: left;\n",
       "  }\n",
       "</style><div class='table-result-container'><table class='table-result'><thead style='background-color: white'><tr><th>value</th></tr></thead><tbody><tr><td>January 30, 2019  Chairman Powell’s Press C onference  FINAL  </td></tr><tr><td>Page 1 of 24  Transcript of Chair man  Powell’s Press Conference  </td></tr><tr><td>January 30, 2019 </td></tr><tr><td>CHAIRMAN POWELL .  Good afternoon, everyone, and welcome.  I will start with a </td></tr><tr><td>recap of our discussions, including our assessment of the outlook for the economy and the </td></tr><tr><td>judgments we made about our interest rate policy and our balance sheet.  I will cover the </td></tr><tr><td>decisions we made today as well as our ongoing discussions of matters on which we expect to </td></tr><tr><td>make decisions in coming meetings.  </td></tr><tr><td>My colleagues and I have one overarching goal:  to sustain the economic expansion, with </td></tr><tr><td>a strong job market and stable prices, for the benefit of the American people.  The U.S. economy </td></tr><tr><td>is in a good place, and we will continue to use our monetary policy tools to help keep it there.  </td></tr><tr><td>The jobs picture continues to be strong, with the unemployment rate near historic lows and with </td></tr><tr><td>stronger wage gains.  Inflation remains near our 2 percent goal.  We continue to expect that the </td></tr><tr><td>American economy will grow at a solid pace in 2019, although likely slower than the very strong </td></tr><tr><td>pace of 2018.  We believe that our current policy stance is appropriate at this time.  </td></tr><tr><td>Despite this positive outlook, over the  past few months we have seen some crosscurrents </td></tr><tr><td>and conflicting signals about the outlook.  Growth has slowed in some major foreign economies, </td></tr><tr><td>particularly in China and Europe.  There is elevated uncertainty around several unresolved </td></tr><tr><td>government policy iss ues, including Brexit, ongoing trade negotiations, and the effects from the </td></tr><tr><td>partial government shutdown in the United States.  Financial conditions tightened considerably </td></tr><tr><td>late in 2018 and remain less supportive of growth than they were earlier in 2018.  An d, while </td></tr><tr><td>most of the incoming domestic economic data have been solid, some surveys of business and </td></tr><tr><td>consumer sentiment have moved lower, giving reason for caution.  January 30, 2019  Chairman Powell’s Press C onference  FINAL  </td></tr><tr><td>Page 2 of 24  We always emphasize that our policies are data dependent.  In other words, as economic </td></tr><tr><td>condit ions and the outlook evolve, we take that new information into account in setting our </td></tr><tr><td>policies.  We are now facing a somewhat contradictory picture of generally strong U.S. </td></tr><tr><td>macroeconomic performance alongside growing evidence of crosscurrents.  At such times, </td></tr><tr><td>common- sense risk management suggests patiently awaiting greater clarity —an approach that </td></tr><tr><td>has served policymakers well in the past.  With that in mind, I’d like to spell out how the Federal </td></tr><tr><td>Open Market Committee has been thinking about these issues. </td></tr><tr><td>At our December meeting, we noted the solid outlook for steady growth, vigorous job </td></tr><tr><td>creation, and price stability.  We also stressed that the extent and timing of any rate increases </td></tr><tr><td>were uncertain and would depend on incoming data and the evolving outlook.  We therefore said </td></tr><tr><td>that we would be paying close attention to global economic and financial developments and </td></tr><tr><td>assessing their implications for the economic outlook. </td></tr><tr><td>Today the FOMC decided that the cumulative effects of those developments over the last </td></tr><tr><td>several months warrant a patient, wait- and-see approach regarding future policy changes.  In </td></tr><tr><td>particular, our statement today says, “In light of global economic and financial developments and </td></tr><tr><td>muted inflation pressures, the Committee will be patient as it determin es what future adjustments </td></tr><tr><td>to the target range for the federal funds rate may be appropriate.”  </td></tr><tr><td>This change was not driven by a major shift in the baseline outlook for the economy.  </td></tr><tr><td>Like many forecasters, we still see “sustained expansion of economic activi ty, strong labor </td></tr><tr><td>market conditions, and inflation near . . . 2 percent” as the likeliest case.  But the crosscurrents I </td></tr><tr><td>mentioned suggest the risk of a less  favorable outlook.  In addition, the case for raising rates has </td></tr><tr><td>weakened somewhat.  The traditional  case for rate increases is to protect the economy from risks </td></tr><tr><td>that arise when rates are too low for too long, particularly the risk of too- high inflation.  Over the January 30, 2019  Chairman Powell’s Press C onference  FINAL  </td></tr><tr><td>Page 3 of 24  past few months, that risk appears to have diminished.  Inflation readings have been muted, and </td></tr><tr><td>the recent drop in oil prices is likely to push headline inflation lower still in coming months.  </td></tr><tr><td>Further, as we noted in our postmeeting statement, while survey -based measures of inflation </td></tr><tr><td>expectations have been stable, financial market measures of i nflation compensation have moved </td></tr><tr><td>lower.  Similarly, the balance—the risk of financial imbalances appears to have receded, as a </td></tr><tr><td>number of indicators that showed elevated levels of financial risk appetite last fall have moved </td></tr><tr><td>closer to historical norms.  In this environment, we believe we can best support the economy by </td></tr><tr><td>being patient in evaluating the outlook before making any future adjustment to policy.  </td></tr><tr><td>Let me now turn to balance sheet normalization.  Over its past three meetings, the FOMC </td></tr><tr><td>has held in- depth discussions on the final stages of this process.  Today we made some important </td></tr><tr><td>progress in clarifying the path forward, as summarized in the Statement Regarding Monetary </td></tr><tr><td>Policy Implementation and Balance Sheet Normalization that we released with today’s F OMC </td></tr><tr><td>statement.  </td></tr><tr><td>The Committee made the fundamental decision today to continue indefinitely using our </td></tr><tr><td>current operating procedure for implementing monetary policy.  That is, we will continue to use </td></tr><tr><td>our administered rates to control the policy rate with an am ple supply of reserves so that active </td></tr><tr><td>management of reserves is not required.  This is often called a “floor system” or an “abundant </td></tr><tr><td>reserves system.”  Under the current set of operating procedures, as outlined in the </td></tr><tr><td>implementation note released today, th is means that the federal funds rate, our active policy tool, </td></tr><tr><td>is held within its target range by appropriately setting the Federal Reserve’s administered rates of </td></tr><tr><td>interest on reserves, as well as the offer rate on the overnight reverse repo facility, without </td></tr><tr><td>managing the supply of reserves actively.  As the minutes of our recent discussions have </td></tr><tr><td>indicated, the FOMC strongly believes that this approach provides good control of short -term January 30, 2019  Chairman Powell’s Press C onference  FINAL  </td></tr><tr><td>Page 4 of 24  money market rates in a variety of market conditions and effective tran smission of those rates to </td></tr><tr><td>broader financial conditions. </td></tr><tr><td>Settling this central question clears the way for the FOMC to address a number of further </td></tr><tr><td>questions regarding the remaining stages of balance sheet normalization.  The decision to retain </td></tr><tr><td>our current operating procedure means that, after allowing for currency in circulation, the </td></tr><tr><td>ultimate size of our balance sheet will be driven principally by financial institutions’ demand for </td></tr><tr><td>reserves, plus a buffer so that fluctuations in reserve demand do not requir e us to make frequent </td></tr><tr><td>sizable market interventions.  Estimates of the level of reserve demand are quite uncertain, but </td></tr><tr><td>we know that this demand in the post -crisis environment is far larger than before.  Higher reserve </td></tr><tr><td>holdings are an important part of the stronger liquidity position that financial institutions must </td></tr><tr><td>now hold.  Moreover, based on surveys and market intelligence, current estimates of reserve </td></tr><tr><td>demand are considerably higher than estimates of a year or so ago.  The implication is that the </td></tr><tr><td>normali zation of the size of the portfolio will be completed sooner, and with a larger balance </td></tr><tr><td>sheet, than in previous estimates. </td></tr><tr><td>In light of these estimates and the substantial progress we have made in reducing </td></tr><tr><td>reserves, the Committee is now evaluating the appro priate timing for the end of balance sheet </td></tr><tr><td>runoff.  This decision will likely be part of a plan for gradually reaching our ultimate balance </td></tr><tr><td>sheet goals while minimizing risks to achieving our dual- mandate objectives and avoiding </td></tr><tr><td>unnecessary market disrupti on.  We will be finalizing these plans at coming meetings.  </td></tr><tr><td>The process of balance sheet normalization is unprecedented.  Throughout this process </td></tr><tr><td>we’ve attempted to lay out our plans well in advance, and we’ve been willing to make changes as </td></tr><tr><td>we learn more about the process.  The implementation and normalization statement released </td></tr><tr><td>today is intended to provide some additional clarity regarding the conditions under which we January 30, 2019  Chairman Powell’s Press C onference  FINAL  </td></tr><tr><td>Page 5 of 24  might adjust our plans.  The statement makes three points:  First, as we’ve long emphasi zed, the </td></tr><tr><td>federal funds rate is our active monetary policy tool. </td></tr><tr><td>Second, as far as the particular details of normalization are concerned, we will not </td></tr><tr><td>hesitate to make changes in light of economic and financial developments.  This does not mean </td></tr><tr><td>that we would use the balance sheet as an active tool, but occasional changes could be warranted.  </td></tr><tr><td>Third, we repeat a sentence of the normalization principles we adopted in June of 2017.  </td></tr><tr><td>While the federal funds rate would remain our acti ve tool of policy in a wide range of scenarios, </td></tr><tr><td>we recognize that the economy could again present conditions in which federal funds rate policy </td></tr><tr><td>is not sufficient.  In those cases, the FOMC would be prepared to use its full range of tools, </td></tr><tr><td>including balance  sheet policy.  </td></tr><tr><td>Times of economic uncertainty put a premium on the clarity and predictability of FOMC </td></tr><tr><td>policy.  We are committed to clearly explaining what we are doing and why we’re  doing it, both </td></tr><tr><td>regarding the path of rates and also regarding management of  the balance sheet.  We believe that </td></tr><tr><td>this transparency is how we can best contribute to macroeconomic stability. </td></tr><tr><td>Thank you. I ’ll be glad to take your questions.  </td></tr><tr><td>HOWARD SCHNEIDER.  Howard Schneider with Reuters.  So you’ ve said many times </td></tr><tr><td>recently that policy was still accommodative and that it needn ’t be so.  You ’ve said recently that </td></tr><tr><td>policy —the state of the policy was still accommodative and that the economy didn’ t require that </td></tr><tr><td>anymore.  Is that still the case?  If so, how do you justify the removal of  the need for some </td></tr><tr><td>further interest rate increases?  Basically, are we at neutral now , or does the economy still need </td></tr><tr><td>accommodation?  </td></tr><tr><td>CHAIRMAN POWELL.  We think that our policy is at the appropriate point right now.  </td></tr><tr><td>We think our policy stance is appropriat e right now .  We do.  We also know that our policy rate January 30, 2019  Chairman Powell’s Press C onference  FINAL  </td></tr><tr><td>Page 6 of 24  is now in the range of the Committee ’s estimates of neutral.  So we ’ll be—again, we think our </td></tr><tr><td>policy stance is appropriate.  </td></tr><tr><td>HEATHER LONG.  Heather Long from the Washington Post.  Last week, the IMF said </td></tr><tr><td>risks are clearly skewed to the downside for the U.S. and global economy.  Can you clarify —</td></tr><tr><td>does the FOMC see risks as skewed to the downside, particularly after you removed the </td></tr><tr><td>statement about risk s being balanced?  </td></tr><tr><td>CHAIRMAN POWELL.  We had an extensive discussion of the baseline and also of the </td></tr><tr><td>risks to the baseline , and the risks are , of course , the fact that financial conditions have tightened, </td></tr><tr><td>that global growth has slowed, as well as some, let ’s say, government -related risks like Brexit </td></tr><tr><td>and trade discussions , and also the effects and ultimate disposition of the shutdown.  So we </td></tr><tr><td>looked at —we look at those , and the way we think of it is that policy —we will use our policy , </td></tr><tr><td>and we have, to offset risks to the baseline.  So we view the baseline as still solid , and part of that </td></tr><tr><td>is the way we adjusted our baseline to address those risks.  So that ’s the way we ’re thinking </td></tr><tr><td>about that now. </td></tr><tr><td>SAM FLEMING.  Thanks.   Sam Fleming from the Financial Times.  The Fed has linked </td></tr><tr><td>its commitment to patie nce in part to subdued inflation outcomes.  Would you be comfortable </td></tr><tr><td>with continuing patience even if there are modest, if transient, overshoots to the inflation target </td></tr><tr><td>by core inflation?  How sensitive are you right now to developments in core inflation w hen </td></tr><tr><td>determining the next move?  Thanks.  </td></tr><tr><td>CHAIRMAN POWELL.  You know, generally speaking, we think the outlook is </td></tr><tr><td>favorable , and we think that these crosscurrents that I referred to —these risks —are going to be </td></tr><tr><td>with us for a while.  We think our stance is appropriate.  We think there ’s no pressing need to </td></tr><tr><td>change our policy stance and no need to rush to judgment there.  January 30, 2019  Chairman Powell’s Press C onference  FINAL  </td></tr><tr><td>Page 7 of 24  I would say that we ’ll be looking at a full range of data , and that will include inflation </td></tr><tr><td>data.   It will include all data relevant to our dual mandate of stable prices and maximum </td></tr><tr><td>employment.  Remember that our inflation objective is a symmetric one, meaning that we are —</td></tr><tr><td>we’re always trying to get to 2 percent, and we don’ t look at —we look at inflatio n equally on </td></tr><tr><td>both sides.  So I can ’t get into specific hypotheticals , but I do believe that we have a symmetric </td></tr><tr><td>objective , and I believe we’ ll act that way.  </td></tr><tr><td>RICHARD MILLER.  We learned from the last minutes  of the meeting that some of the </td></tr><tr><td>tweaks you make t o the statement have a lot more portent than we thought.  In light of that, I ’m </td></tr><tr><td>wondering if you can provide us with a “ decoder ring ” for this statement.  “ Adjustments ”—does </td></tr><tr><td>that suggest the next move in interest rates is as likely to be up as down?  And w hen you twin “ in </td></tr><tr><td>light of global economic and financial developments ” with “ muted inflation pressures, ” does that </td></tr><tr><td>suggest you have to see both the cessation of these crosscurrents that you’ ve talked about and </td></tr><tr><td>inflation moving up before you get off the dime , so to speak, and move?  </td></tr><tr><td>CHAIRMAN POWELL.  Sorry —say again what the first question was ? </td></tr><tr><td>RICHARD MILLER.  First question is, “ adjustments ”—is that meant to imply the next </td></tr><tr><td>move is as most likely to be up as down?  </td></tr><tr><td>CHAIRMAN POWELL.  Ye s.  I’m just going to say that the —it’ s going to depend </td></tr><tr><td>entirely on the data.  We ’re not making a judgment.  We don’ t have a strong prior.   We will be —</td></tr><tr><td>we will patiently wait and let the data clarify.  Some of the crosscurrents that I refer to may be </td></tr><tr><td>with us for a  while , and I think we ’ll be looking at seeing those clear up as it relates to —as they </td></tr><tr><td>relate to the outlook for the U.S . and that will be an important aspect as well.  Your second </td></tr><tr><td>question was?  January 30, 2019  Chairman Powell’s Press C onference  FINAL  </td></tr><tr><td>Page 8 of 24  RICHARD MILLER.   Would it be not just the cessation of those crosscurrents, but the </td></tr><tr><td>end of these muted inflation pressures —are they both sort of things that are necessary for you to </td></tr><tr><td>change this “ patient ” stance?  </td></tr><tr><td>CHAIRMAN POWELL.  You know, it ’s really hard to speak about generalities.  We ’ll </td></tr><tr><td>be looking at everything , but I do think that, you know, muted inflation pressures —you know, </td></tr><tr><td>you would want —I would want to see a need for further rate increases , and, for me, a big part of </td></tr><tr><td>that would be inflation.  It wouldn’ t be the only thing , but it would certainly be importa nt. </td></tr><tr><td>STEVE LIESMAN.  Steve Liesman, CNBC.  Mr. Chairman, did the Committee discuss </td></tr><tr><td>an actual change to the runoff policy or the runoff schedule right now?   If so, is that under </td></tr><tr><td>consideration right now , and when might we know?  The second thing is, I have to nail down this </td></tr><tr><td>thing.  You guys, Fed folks, keep mentioning the “market average”  or the “market outlook”  for </td></tr><tr><td>the size of the balance sheet.  Are you endorsing the market average, which is 3 ½ trillion?   And </td></tr><tr><td>if you ’re not endorsing it, why do you keep mentioning it?  </td></tr><tr><td>CHAIRMAN POWELL.  Okay.  So today I ’m here to talk about decisions and also </td></tr><tr><td>discussions about decisions that haven’ t been made.  So we ’re talking about the latter thing, </td></tr><tr><td>which is discussions , and so I can’t get ahead of where decisions are.  But so the Committee is —</td></tr><tr><td>what we ’re looking to do is create a whole plan that will bring us to our goal, our longer -run </td></tr><tr><td>goal, which is a balance sheet no larger than it needs to be for us to efficiently conduct —</td></tr><tr><td>efficiently and effectively conduct monetary policy, but to do so in a way that doesn’ t put our </td></tr><tr><td>goals at risk or result in unnecessary market turmoil.  So there are a lot of pieces to that , and </td></tr><tr><td>we’ve learned over time that it ’s—when making these —when designing these plans, like , for </td></tr><tr><td>example, the  original normalization plan, it’ s good to take your time.  Let the best ideas rise to </td></tr><tr><td>the top.  Let them stand the test of time and argument and then move when you’ re really January 30, 2019  Chairman Powell’s Press C onference  FINAL  </td></tr><tr><td>Page 9 of 24  comfortable with what you’ve got and when you feel you can communicate it clearly.  So I don’ t </td></tr><tr><td>want to get ahead of that process today.  </td></tr><tr><td>But—so we ’ve discussed —there are a number of pieces to that puzzle.  There are several </td></tr><tr><td>different pieces to them , and I think they ’re coming —and I’m very pleased with the progress that </td></tr><tr><td>we’ve made, and, you know, the piece that you mentioned is something that is in those </td></tr><tr><td>discussions.  That ’s the first question.  I’m not going to give our estimate or ratify anybody else ’s </td></tr><tr><td>estimate of what the equilibrium balance sheet is here today.  There are estimates out there, but </td></tr><tr><td>I’m not at a point today where I ’m going to be giving out numbers on that.  But there are </td></tr><tr><td>estimates , and I think they ’re consistent with what I said, broadly speaking.  </td></tr><tr><td>STEVE LIESMAN.  So, just to clarify —I’m sorry, you did discuss reducing the pace of </td></tr><tr><td>the runoff?  That sounds like what you said, to  me. </td></tr><tr><td>CHAIRMAN POWELL .  Yes, it’s —so, a gain, we haven’ t made any decisions.  There n o </td></tr><tr><td>decisions have been made.  There are different pieces of the thing , and that is in the discussion as </td></tr><tr><td>one of many pieces that is in the discussion.  A nd that was reflected in the last minutes, actually.  </td></tr><tr><td>NICK TIMIRAOS.  Thanks.  Nick Timiraos of the Wall Street Journal .  Chairman </td></tr><tr><td>Powell, I want to follow up on Steve ’s question.  The size of the balance sheet obviously matters </td></tr><tr><td>a great deal , but, so, too, if you follow the arguments that were made when the Fed was </td></tr><tr><td>purchasing these assets, does the duration of those holdings.  So once you are —once you reach </td></tr><tr><td>the terminal level of reserves and you have to reinvest maturing mortgage -backed securities into </td></tr><tr><td>Treasuries , it will matter a great deal , of course , where along the curve the Fed resumes those </td></tr><tr><td>reinvestments.  </td></tr><tr><td>And so I wonder, what does your staff research show about the degree of accommodation </td></tr><tr><td>that would be provided by either moving to the front end of the curve and holding or investing , January 30, 2019  Chairman Powell’s Press C onference  FINAL  </td></tr><tr><td>Page 10 of 24  perhaps , in shorter maturity assets , versus the other approach that was identified in the December </td></tr><tr><td>meeting minutes, which would be to si mply reflect issuance of the outstanding T reasury </td></tr><tr><td>maturities?  And which approach do you think is more a ppropriate in the current environment ? </td></tr><tr><td>CHAIRMAN POWELL.  These are great questions.  Let me say that the question of the </td></tr><tr><td>ultimate composition of our balance sheet in the longer run is a very important one , and it ’s one </td></tr><tr><td>that we see ourselves as coming to, you know, fairly soon, as in, in coming meetings.  It won ’t be </td></tr><tr><td>the first thing we work on, but it will be one of the first things that we try to resolve.  We had </td></tr><tr><td>discussions at one of the last two meetings on this , and we haven ’t come to a judgment on that .  </td></tr><tr><td>And, you know, I wouldn’ t comment beyond saying that we understand that ’s a key question, </td></tr><tr><td>and there are, you know, there are issues to be decided.  There are benefits and costs to doing —</td></tr><tr><td>to taking different approaches , and I wouldn’ t want to prejudge them today.  </td></tr><tr><td>BINYAMIN APPELBAUM.  Binya Appelbaum, New York Times .  I am struggling a </td></tr><tr><td>little bit to understand what has changed since we sat here with you six weeks ago.  You ’ve said </td></tr><tr><td>today that you think that inflation would be the reason that the Fed would need to continue </td></tr><tr><td>raising rates.  Has the inflation outlook shifted that dramatically in the last six weeks?  Can you </td></tr><tr><td>speak specifically to why you ’ve mo ved from a posture of saying we expect to keep raising rates </td></tr><tr><td>this year to a posture of standing still?  </td></tr><tr><td>CHAIRMAN POWELL.  I’d point to a couple of things.  First, the narrative of slowing </td></tr><tr><td>global growth continues, if you will.  The incoming data have shown more of that.  We ’ve seen </td></tr><tr><td>that both in China and in Western Europe, and so that ’s an important —that has important </td></tr><tr><td>implications for us , and that story has —let ’s just say it continues.  </td></tr><tr><td>And, in addition— I mean, I think important —possibly less important now —probably </td></tr><tr><td>less important now , but—has been the shutdown, which will leave some sort of imprint on first -January 30, 2019  Chairman Powell’s Press C onference  FINAL  </td></tr><tr><td>Page 11 of 24  quarter GDP.  We don’ t know the ultimate resolution of it.  If that ’s all there is , and the </td></tr><tr><td>shutdown is gone and there isn’ t another shutdown, then we ’ll get most of that back in the </td></tr><tr><td>second period—second quarter.  </td></tr><tr><td>So those things —in addition, you know, you have to look back.  Financial conditions </td></tr><tr><td>began to tighten in the fourth quarter .  And they now have persisted and remain tight er—</td></tr><tr><td>significantly tighter, let ’s say —than they were , and that ’s something that we have to take into </td></tr><tr><td>account as well.  So that ’s where we are.  </td></tr><tr><td>MICHAEL MCKEE.  Michael McKee from Bloomberg Television and Radio.  You said </td></tr><tr><td>you like to be a plain speaker , so let me try to have you put this as plainly as possible.  Is it fair to </td></tr><tr><td>characterize this as not a pause in a tightening cycle, but the end of the tightening cycle now —a </td></tr><tr><td>new regime for the Fed?  And , if not, can you put a time frame on “patient ”?  Does “ patient ” </td></tr><tr><td>have some sort of time frame?  And I ’m wondering about your reaction to the criticism you got </td></tr><tr><td>on your December 19th news conference, your later statements —do you feel you’ve put a </td></tr><tr><td>“Powell put” into the markets ? </td></tr><tr><td>CHAIRMAN POWELL.  So , patience— I think we ’re going to know in hindsight , </td></tr><tr><td>because the length of this patient period is going to depend entirely on incoming data and its </td></tr><tr><td>implications for the outlook.  So that ’s going to be —so it’ s hard to say, you know, it’ s hard to </td></tr><tr><td>think of what to call it a t this point or how to label it.  </td></tr><tr><td>So really, your second question is about how do we think about financial conditions.  </td></tr><tr><td>And I would say this :  We think about a broad range of financial conditions, not just one or two </td></tr><tr><td>things.  You know, it’ s interest rates, it’ s risk spreads, it’ s currency, it’ s the stock market, it’ s </td></tr><tr><td>credit availability, it’ s many, many factors.  And what matters for financial conditions is , when </td></tr><tr><td>there are changes and those changes are sustained for a period of time, then they become January 30, 2019  Chairman Powell’s Press C onference  FINAL  </td></tr><tr><td>Page 12 of 24  importa nt for us because they have important macroeconomic implications.  So that ’s how we </td></tr><tr><td>think about it.  </td></tr><tr><td>So we don’ t react to, you know, to most things that happen in the financial markets.  But </td></tr><tr><td>when we see a sustained change in financial conditions, then that ’s something that has to play </td></tr><tr><td>into our thinking.  In fact, our policy works through changing financial conditions , so it’ s sort of </td></tr><tr><td>the essence of what we do.  </td></tr><tr><td>VICTORIA GUIDA.  Victoria Guida with Politico.  I just wanted to ask, first of all , </td></tr><tr><td>about whether t he Fed is gathering information about some of the new money  laundering </td></tr><tr><td>information that ’s come out about Deutsche Bank and Danske Bank and whether you have any </td></tr><tr><td>concerns there?  And then, also, I was just wondering if you could say whether there’ s any kind </td></tr><tr><td>of timeline on when the Fed might make a decision on real -time payments and whether you’re </td></tr><tr><td>going to build a real -time payment system?  </td></tr><tr><td>CHAIRMAN POWELL.   Right.  So, on the first question, I can —we don’ t comment on </td></tr><tr><td>individual investigations or whether they ’re happening.  I will say that we take our enforcement </td></tr><tr><td>powers very seriously , and we put them to work when we feel it’ s justified.  </td></tr><tr><td>In terms of real -time payments, it’ s something we ’re very actively working on.  As you </td></tr><tr><td>obviously know, we have some proposals  out, and we’re considering them.  You know, the thing </td></tr><tr><td>is, it’s very important in that space to consult with the full range of market participants and </td></tr><tr><td>interest groups, consumer groups , and we ’ve done that, as I’m sure you know, over a period of </td></tr><tr><td>years.  We don’ t have plenary authority to just do things , for the most part , in the payment space.  </td></tr><tr><td>We’ve been more of a convener, bringing industry and the public —public interest groups —and  </td></tr><tr><td>all those groups around the table.  And we’ve— I think we ’ve played a constructive role in that </td></tr><tr><td>respect , and I believe that will continue.  January 30, 2019  Chairman Powell’s Press C onference  FINAL  </td></tr><tr><td>Page 13 of 24  JIM PUZZANGHERA.  Thanks.  Jim Puzzanghera with the L .A. Times .  You and your </td></tr><tr><td>colleagues may have noticed, President Trump, for the past six months, has been urging the Fed </td></tr><tr><td>not to raise r ates—to stop raising rates.  How would you respond to those who would suggest </td></tr><tr><td>that the Fed just caved to the president ’s demands?  </td></tr><tr><td>CHAIRMAN POWELL.  So what we care about —and , really, the only thing we care </td></tr><tr><td>about at the Fed —is doing our job for the American people and using our tools appropriately.  So </td></tr><tr><td>that’s very strongly our culture.  I think anyone who knows the Fed or who has worked at the </td></tr><tr><td>Fed would recognize that description.  So we ’re always going to do what we think is the right </td></tr><tr><td>thing.  We ’re never go ing to take political considerations into account or discuss them as part of </td></tr><tr><td>our work.  You know, we’re human.  We make mistakes .  But we ’re not going to make mistakes </td></tr><tr><td>of character or integrity.  And I would want the public to know that , and I would want them to </td></tr><tr><td>see that in our actions. </td></tr><tr><td>EDWARD LAWRENCE.  Edward Lawrence from F ox Business News.  Thank you, Mr. </td></tr><tr><td>Chairman.  The long -term federal funds rate is 2.8 percent.  I’ve talked the last year with a </td></tr><tr><td>number of Fed presidents who worry that under 3 percent is not enough to handle the next </td></tr><tr><td>recession.  You say that ’s your first tool , that’s your primary means of adjusting monetary </td></tr><tr><td>policy.  So with a larger balance sheet —with a larger balance sheet, could you —how could you </td></tr><tr><td>handle that next re cession , then , with the combination of those two?  </td></tr><tr><td>CHAIRMAN POWELL.   I guess the sense of your question is that we could be in a </td></tr><tr><td>situation in the future —we hope not , but—we could be in a situation where we ’d like to cut rates </td></tr><tr><td>more than we can effectively , and we hit the zero lower bound.  We don’ t think anything like </td></tr><tr><td>that is in the cards.  Now,  there’ s no reason to think that it would be.  But as we said in today ’s </td></tr><tr><td>release, if that happens, then we ’ll use the full range of our tools , and that includes the balance January 30, 2019  Chairman Powell’s Press C onference  FINAL  </td></tr><tr><td>Page 14 of 24  sheet.  But we would use it after using our conventional tools, which would be the interest rate </td></tr><tr><td>and forward guidance about the interest rate.  </td></tr><tr><td>EDWARD LAWRENCE.   Even if you have a large balance sheet —$4 trillion?   Above </td></tr><tr><td>$4 trillion?  </td></tr><tr><td>CHAIRMAN POWELL.  Yes.  There would be room to do substantially more.  </td></tr><tr><td>DONNA BORAK.  Chairman Powell, Donna Borak with CNN.  I just wanted to go back </td></tr><tr><td>to—you had mentioned on the crosscurrents, the government shutdown issue.  You mentioned a </td></tr><tr><td>couple of weeks ago that that information would clearly show up in the data.  I’m wondering, as </td></tr><tr><td>you guys discussed during this week ’s meeting, what the potential economic impact would be of </td></tr><tr><td>the shutdown, the possibility of a second one, whether or not it would dim inish consumer </td></tr><tr><td>confidence, have some severe ripple effects ?  Just talking to other folks outside, businesses —</td></tr><tr><td>clearly they were suffering and seeing a lot of pain.  I’m just wondering about , for American </td></tr><tr><td>families that missed two paychecks, how is this going  to play  out for them for the months </td></tr><tr><td>to come?  </td></tr><tr><td>CHAIRMAN POWELL.  Right.  So let me give you the economic side of it  first—is that, </td></tr><tr><td>even with a fairly long shutdown, as long as that ’s the end of it and everyone gets their </td></tr><tr><td>backpay —except the contractors, I guess, the private- sector contractors , but—some people get </td></tr><tr><td>their backpay , then the lost GDP will be regained in the second quarter.  So that’s that.  I would </td></tr><tr><td>say that the —you know, we all see the suffering and the heartbreak and all the pain people go </td></tr><tr><td>through.  I see, you know, federal employees doing their work, and I’m, you know, really </td></tr><tr><td>grateful they did.  I mean, to be doing your work while you’re not getting paid, it’s something we </td></tr><tr><td>should all be grateful for.   Did that answer both your questions?  January 30, 2019  Chairman Powell’s Press C onference  FINAL  </td></tr><tr><td>Page 15 of 24  DONNA BORAK.  Yes, it does.  So you don’t see a permanent effect of this shutdown?  </td></tr><tr><td>And I’m just wondering if you’re thinking about the path of future policy and the possibility of </td></tr><tr><td>reaching this point again on February 15?  </td></tr><tr><td>CHAIRMAN POWELL.  So would there be a p ermanent effect?  As I mentioned, there </td></tr><tr><td>wouldn’ t be if there isn ’t another shutdown.  If there were going to be a permanent effect or a </td></tr><tr><td>lasting effect, let ’s say, it would be from a longer shutdown or perhaps a second shutdown, and </td></tr><tr><td>that would be through the channel of a loss of confidence in our ability to make policy in the </td></tr><tr><td>United States.  That would be the channel.  And I think that was something that we and many </td></tr><tr><td>others were worried about as there was talk of an even longer shutdown.  In terms of ideas for </td></tr><tr><td>not having more shutdowns, I know Congress is actually looking at some of those , so I think that </td></tr><tr><td>could be a profitable thing to explore.  </td></tr><tr><td>MARTIN CRUTSINGER.  Marty Crutsinger, AP.  The Beige Book that was prepared for </td></tr><tr><td>this mee ting noted a rising concern among business contacts about higher trade tariffs and the </td></tr><tr><td>tensions there.  Did that play a part in the discussion and the decision that you made on shifting </td></tr><tr><td>the wording i n your statement?  </td></tr><tr><td>CHAIRMAN POWELL.  So , trade— you sound l ike you’re an avid reader of the Beige </td></tr><tr><td>Book, and that ’s great —the trade, as you will know , then —trade has been a big feature in the </td></tr><tr><td>Beige Book for some time now.  The Beige Book is a collection of all of our —of the comments </td></tr><tr><td>that our Reserve Bank presidents  get from their D istricts.  It’s incredibly valuable , because </td></tr><tr><td>you’re getting actual reports from people who are on the line.  And there have been real concerns </td></tr><tr><td>about trade right along the line, both in terms of availability of materials and costs and retal iation </td></tr><tr><td>and that kind of thing.  So that ’s been a concern.  January 30, 2019  Chairman Powell’s Press C onference  FINAL  </td></tr><tr><td>Page 16 of 24  I would say the longer -term concern , though, is the negotiations that are going on.  If they </td></tr><tr><td>linger, then there could be more and more uncertainty , and you worry over time that that could </td></tr><tr><td>have an effect on business confidence.  So far, the actual amount of tariffs that have been applied </td></tr><tr><td>both here and in China is not enough to have material effects on GDP either here or in China.  So </td></tr><tr><td>the concern is more a longer —for me —a longer , drawn -out set of negotiations back and forth, </td></tr><tr><td>which could result in sapping business confidence.  Uncertainty is not the friend of business.  </td></tr><tr><td>NANCY MARSHALL -GENZER.  I’m Nancy Marshall -Genzer from Marketplace.   I </td></tr><tr><td>want to talk to  you about corporate debt.  Are you worried that by taking a pause in raising </td></tr><tr><td>interest rates —we ’ve had low interest rates for so long —are you contributing to a bubble in </td></tr><tr><td>corporate debt?  </td></tr><tr><td>CHAIRMAN  POWELL.  So , we did —we ’ve called out corporate debt as a risk —more </td></tr><tr><td>of a macroeconomic risk, I think, than a financial stability risk, t he sense of that being that if you </td></tr><tr><td>have companies that are highly levered and we do go into a downturn, they ’re going to be less </td></tr><tr><td>able to weather that and keep serving their customers  and, you know, may have to do layoffs and </td></tr><tr><td>things like that.  So they can amplify, in effect, a negative downturn.  So we watch that.  </td></tr><tr><td>We also watch carefully for the exposure of the financial system to these companies.   In </td></tr><tr><td>other words, banks are arranging a lot of these loans.  The question is, what is their exposure?  </td></tr><tr><td>Do they retain big pieces of the loans?  Do they have obligations to underwrite loans which build </td></tr><tr><td>up in a pipeline?  So we monitor those risks very carefully.  And, frankly, the banks monitor </td></tr><tr><td>them much better with our support and help than they did before the crisis.   So it’ s a concern.  </td></tr><tr><td>It’s something that we ’re watching.   Of course, you know, November, December, and January </td></tr><tr><td>were much slower months for those sorts of things.  But , you know, it’ ll be something that we ’re </td></tr><tr><td>always paying close attention to.  January 30, 2019  Chairman Powell’s Press C onference  FINAL  </td></tr><tr><td>Page 17 of 24  GREG ROBB.  Chairman Powell, Greg Robb from MarketWatch.  Financial markets </td></tr><tr><td>have reacted strongly to the decision and the press conference.  The Dow Jones i ndustrial </td></tr><tr><td>average is up more than, like, 500 points.  There’ s a sense in the market that there’ s, you know, </td></tr><tr><td>what people call the “ Powell put ” on the markets.   Are financial markets wrong in that </td></tr><tr><td>assessment?  </td></tr><tr><td>CHAIRMAN POWELL.  You know, I would point to all the continuity here.   You know, </td></tr><tr><td>the thing we did on the balance sheet is something we ’ve been working on for, frankly, years —</td></tr><tr><td>the thing we announced today.  And so we ’re providing clarity there.  I think that ’s a </td></tr><tr><td>constructive thing to do.  </td></tr><tr><td>My—honestly —only motivation is to do the right thing for the economy and for the </td></tr><tr><td>American people—that ’s it.  And this situation, I think, calls for patience —I think it does.  And </td></tr><tr><td>it’s just the stance of policy we think is appropriate.  We see these uncertainties , and we see a </td></tr><tr><td>time wh en we can afford to —we have the luxury of being able to wait and watch , and that ’s </td></tr><tr><td>what we ’re planning to do.  And I think it’ s the right thing .  I feel strongly that it is.  </td></tr><tr><td>JOHN HELTMAN.  Chairman Powell, the Office of the Comptroller of the Currency last  </td></tr><tr><td>year completed its f intech c harter .  And one of the questions around that charter has been </td></tr><tr><td>whether the Federal Reserve will allow such a chartered bank to access the payment system.  I’m </td></tr><tr><td>curious if you think a f intech c harter is a good idea in general , and what conditions you think </td></tr><tr><td>might be necessary to allow the Fed to allow such a chartered institution access to the payment </td></tr><tr><td>system.  </td></tr><tr><td>CHAIRMAN POWELL.  I’m not going to be able to help you much on that.  Those are </td></tr><tr><td>great questions , and those are questions that are, you know, that our great supervisory people are </td></tr><tr><td>looking at.  I think we ’re open to these ideas , but I don’ t have any news for you on that today.  January 30, 2019  Chairman Powell’s Press C onference  FINAL  </td></tr><tr><td>Page 18 of 24  STEVE BECKNER.  Thank you.  Steve Beckner, freelance journalist reporting for NPR.  </td></tr><tr><td>Mr. Chairman, you’ve echoed the widespread concern about slowing growth in China and </td></tr><tr><td>elsewhere in the world , but I wonder whether it’ s possible that slower growth abroad might </td></tr><tr><td>actually be beneficial to this country , in some respects , at least —for example, perhaps increasin g </td></tr><tr><td>capital inflows and putting downward pressure on long -term rates in this country, as happened in </td></tr><tr><td>the Asian financial crisis in the late  ’90s. </td></tr><tr><td>CHAIRMAN POWELL.  You know, Steve, it’ s certainly possible.  Ultimately , though, </td></tr><tr><td>you know, a strong global economy is good for us.  We export to these countries.  We trade with </td></tr><tr><td>these countries.  I mean, part of the story of 2017, for example, was that European growth kept </td></tr><tr><td>coming in stronger and stronger , and that meant the euro was strong , and that supported our </td></tr><tr><td>exports.  So , ultimately, I think we benefit from having strong growth abroad, although you point </td></tr><tr><td>to an interesting case.  </td></tr><tr><td>MARK HAMRICK.  Chairman Powell, Mark Hamrick with Bankrate.  Thank you.  As </td></tr><tr><td>you probably heard, the Congressional Budget Office is projecting that federal debt is expected </td></tr><tr><td>to surge to about $29 trillion over the next 10 years, reaching the highest share since the end of </td></tr><tr><td>World War II.  First of all, does that sound like it could be a reasonable forecast, with the </td></tr><tr><td>Administration seeming to take plenty of opportunities to question the legitimacy of CBO?  And </td></tr><tr><td>then, secondly, what effect does that have on interest rates and the public if indeed that ’s even </td></tr><tr><td>close to being true?  </td></tr><tr><td>CHAIRM AN POWELL.  So , first, it is important —we don’ t do fiscal policy.  We don’ t </td></tr><tr><td>advise the government or Congress on fiscal policy , so I’ll limit myself to more high -level </td></tr><tr><td>comments and say that it is not a secret—it is a long -known fact that the U.S. federal g overnment </td></tr><tr><td>budget is on an unsustainable path, and that needs to be addressed.  And that is driven principally January 30, 2019  Chairman Powell’s Press C onference  FINAL  </td></tr><tr><td>Page 19 of 24  by the combination of health- care costs —really , due to our health- care delivery system —and the </td></tr><tr><td>aging of the population.  And there’ s no time like now—when the economy is healthy, growing, </td></tr><tr><td>people are working —to go after that problem.  Ultimately, we will have to.  We don’ t have a </td></tr><tr><td>forecast.  We don’ t forecast those things.  I have no reason to doubt CBO ’s numbers on this.  I </td></tr><tr><td>haven ’t actually looked at  that report , but my general experience with them is that it’ s a </td></tr><tr><td>professional outfit. </td></tr><tr><td>MARK HAMRICK.  What does that look like , if that really takes place 10 years down </td></tr><tr><td>the road?  </td></tr><tr><td>CHAIRMAN POWELL.  So, you know, first of all, our —the work that we do relates </td></tr><tr><td>more to the medium term rather than the long term.  And so I don ’t see this , in particular , as a </td></tr><tr><td>threat to this business cycle or to the economy this year.  It’s more in the longer run, we ’ll be </td></tr><tr><td>spending all of our money on paying interest and not on the t hings that we really need to be </td></tr><tr><td>doing for future generations and for our own generation.  So it’ s a serious problem , but it’ s not a </td></tr><tr><td>problem that is something that either helps or prevents the Fed from doing our job today.  </td></tr><tr><td>PAUL KIERNAN.  Hi, Chairman.  Paul  Kiernan from Dow Jones Newswires.   I know </td></tr><tr><td>where the FOMC participants ’ estimates for the long -run interest rate are.  They ’re all above </td></tr><tr><td>2½ percent.  Right now we’re between 2.25 and 2½.  So I think a key question right now is, is </td></tr><tr><td>policy accommodative at this moment?   Are we looking at staying accommodative for some </td></tr><tr><td>time, or has your estimate of neutral come down, in light of the recent volatility in markets?  </td></tr><tr><td>Thanks. </td></tr><tr><td>CHAIRMAN POWELL.  So the range of estimates on the Committee starts at </td></tr><tr><td>2½ percent , and th at’s kind of roughly where we currently are.  And as I ’ve said a couple of </td></tr><tr><td>times, when you get to that range —you know that we can ’t directly observe the neutral rate.  We January 30, 2019  Chairman Powell’s Press C onference  FINAL  </td></tr><tr><td>Page 20 of 24  only know it by its works.  And so we have to put aside our own priors of what that r ate might be </td></tr><tr><td>and let the data speak to us.  So we can do that.  We’re in the range.  There are a number of </td></tr><tr><td>Committee members who are, you know, right around that range.  And I think we ’re watching </td></tr><tr><td>to see. </td></tr><tr><td>We don’ t—I don’t —again, I think that our policy sta nce today is appropriate for the state </td></tr><tr><td>of the economy.  That ’s my feeling.  We’ re going to be watching data to see whether that ’s right , </td></tr><tr><td>and we ’re also going to be watching data to see how these crosscurrents resolve themselves and </td></tr><tr><td>how the U.S. economy performs this year.  </td></tr><tr><td>VIRGINIE MONTET.  Thank you.  Virginie  Montet with Agence France -Presse.  </td></tr><tr><td>Among the global developments that the Fed is monitoring, how much of a risk for the American </td></tr><tr><td>expansion would be the prospect of a “hard” Brexit?  </td></tr><tr><td>CHAIRMAN POWELL.   So we ’ve been monitoring the Brexit situation very carefully </td></tr><tr><td>for a long time.   And for us, that starts with U.S. financial institutions that have a presence either </td></tr><tr><td>in the U .K. or in the EU or both.  So we have worked with those institutions alongside U .K. and </td></tr><tr><td>EU regulators to assure ourselves that those firms have plans and have liquidity and have all of </td></tr><tr><td>the things they will need to deal with the full range of Brexit outcomes.  So we ’ve done a lot of </td></tr><tr><td>work on that , and, generally speaking —again, a lot of w ork has been done —we have to be </td></tr><tr><td>humble and say that this is an unprecedented event.  But that ’s the financial system aspect of it.  </td></tr><tr><td>If there is a hard Brexit, then that would very likely involve disruptions both to the </td></tr><tr><td>continental economy and certainly to t he U .K. economy , and we would feel that.  The question </td></tr><tr><td>for us —it wouldn’ t be a huge first -order thing, the economic effects, unless you saw financial </td></tr><tr><td>disruptions.  So , if you saw financial turmoil and that kind of thing, that would be the way it </td></tr><tr><td>would reach us.  January 30, 2019  Chairman Powell’s Press C onference  FINAL  </td></tr><tr><td>Page 21 of 24  I would expect that we would feel some of this , and it’ s very hard to have great </td></tr><tr><td>confidence that you know what that would be .  But it would be something —probably  not </td></tr><tr><td>material to our economy , but it’ s something we ’ll be watching very carefully and certainly </td></tr><tr><td>hoping that there is a resolution short of a hard Brexit.  </td></tr><tr><td>JEAN YUNG.   Hi, I’m Jean Yung with Market News.   I have a question about the </td></tr><tr><td>ultimate size of the bala nce sheet.  How will the Fed judge what is a reasonable level for </td></tr><tr><td>financial institution s’ demand for reserves when it appears to be rising at a fast pace over the past </td></tr><tr><td>year and perhaps at a faster pace than can be explained by regulatory changes during that same </td></tr><tr><td>time frame?  Would you prefer to err on the side of being more generous, or would you try to </td></tr><tr><td>encourage banks from holding —to hold less reserves?  </td></tr><tr><td>CHAIRMAN POWELL.  Let me be clear .  I don ’t know that demand for reserves has </td></tr><tr><td>risen over the past years.   I think our understanding of demand for reserves —remember that the </td></tr><tr><td>banks have more reserves th an they need.  Reserves are still quite abundant.  </td></tr><tr><td>So the question is, how much of that amount is actually going to be needed in the end </td></tr><tr><td>after, you know, after t he firms adjust to our very gradual decrease?  And so our understanding , </td></tr><tr><td>really , of the distribution of reserves and how much will be needed has moved up over the past </td></tr><tr><td>year.  And then there would be a buffer on top of that.  And then we would want to be —we  </td></tr><tr><td>would want to have a buffer, as I mentioned in my remarks, because we want to be operating in </td></tr><tr><td>an abundant reserves regime where we operate through our administered rates. </td></tr><tr><td>If you operate too close to that point of scarcity, then you wind up having to have these </td></tr><tr><td>big, ongoing interventions in the market.  We don’ t want the Fed to have a, you know, a large </td></tr><tr><td>ongoing presence in the market around this.  We ’d rather just, you know —in managing the January 30, 2019  Chairman Powell’s Press C onference  FINAL  </td></tr><tr><td>Page 22 of 24  federal funds rate, we ’d rather have it set by our administered rate s.  So that implies you’d want </td></tr><tr><td>to be a bit above what that equilibrium demand for reserves is.  </td></tr><tr><td>And, again, there’ s no cookbook here, there ’s no playbook.  No one really knows.  The </td></tr><tr><td>only way you can figure it out is by surveying people and market intelligen ce and then, </td></tr><tr><td>ultimately, by approaching that point quite carefully.  </td></tr><tr><td>JEAN YUNG.  But do you take the survey result s as given , or do you try to encourage </td></tr><tr><td>banks from holding a [inaudible ]? </td></tr><tr><td>CHAIRMAN POWELL.  We don’ t take— you know, we don’ t think we have a precise </td></tr><tr><td>understanding of this at all.  I want to be clear about that.   These estimates are fairly uncertain.  </td></tr><tr><td>So if you think that the level of demand for reserves is here  [gesturing with hands together, in the </td></tr><tr><td>middle] , all you can say is , it’s probably somewhere in this range  [gesturing with hands apart, </td></tr><tr><td>equidistant from the middle] . </td></tr><tr><td>If banks want to use reserves for a good and sufficient reason— which is to say , to hold </td></tr><tr><td>liquidity as we require them to do to meet the liquidity coverage ratio , to meet their resolution </td></tr><tr><td>requirements and resolution planning —we ’re not going to discourage them from holding them.  </td></tr><tr><td>They are , in fact , a very safe asset —in a way, the safest asset.  And we want the banks to be safe </td></tr><tr><td>and sound. </td></tr><tr><td>We didn’ t create the reserv es, you know, with that in mind, but, you know, since —in the </td></tr><tr><td>post-crisis, you know, regulatory regime, we have brand- new and quite substantial liquidity </td></tr><tr><td>requirements, which are very good and which have great public benefit.  So it’ s not a bad thing </td></tr><tr><td>that ba nks hold onto these reserves or another safe asset.  We don’ t—we ’re not encouraging </td></tr><tr><td>them to hold reserves inste ad of T reasuries .  Treasuries or reserves  are roughly equivalent for </td></tr><tr><td>this purpose. January 30, 2019  Chairman Powell’s Press C onference  FINAL  </td></tr><tr><td>Page 23 of 24  COURTENAY BROWN.  Hi, Mr. Chairman.  Courtenay Brown from Axios.   A data-</td></tr><tr><td>dependency question:  H as there been a prioritization of market data over the economic data?   </td></tr><tr><td>How do you balance those two things?  </td></tr><tr><td>CHAIRMAN POWELL.  I would say that, you know, our mandate is maximum </td></tr><tr><td>employment and stable prices , and that ’s about, you know, hard, real -side economic data.  We —</td></tr><tr><td>as I mentioned earlier, we —our tool, you know, our interest rate tool operates on the economy </td></tr><tr><td>through financial conditions.  So financial conditions matter , and they matter in the way that I </td></tr><tr><td>suggested ear lier—which is to say , broad financial conditions changing over a sustained </td></tr><tr><td>period—that has implications for the macroeconomy .  It does.  So if you lower interest rates and </td></tr><tr><td>they stay low, every borrower in the country ultimately has a lower interest rate.  That ’ll have an </td></tr><tr><td>effect on —over time , an effect on the economy.  But, again, the entire focus we have is on </td></tr><tr><td>maximum employment and stable prices, not on any particular financial market or financial </td></tr><tr><td>conditions generally.  </td></tr><tr><td>MYLES UDLAND.  Chairman Powell, Myles Udland with Yahoo Finance.   I would just </td></tr><tr><td>ask, I guess, about the balance sheet in general .  And are you surprised at how much of a </td></tr><tr><td>conversation we ’re having around the balance sheet , and how much talk about the balance sheet </td></tr><tr><td>from you rself and various Fed official s have moved financial markets?  Because putting out a </td></tr><tr><td>statement, clarifying your view on the balance sheet, you know, is somewhat surprising, </td></tr><tr><td>considering it is restating, you know, what the Fed had said all along was the goal  with balance </td></tr><tr><td>sheet normalization —to roll it off, not have it be a key part of policy.  And so I would just ask, </td></tr><tr><td>are you surprised by how far that conversation has gotten just in the last six weeks?  </td></tr><tr><td>CHAIRMAN POWELL.   You know, I’ll quickly go back—in 2017, we were—in </td></tr><tr><td>designing the normalization plan, we were concerned at not having two active tools of policy.  January 30, 2019  Chairman Powell’s Press C onference  FINAL  </td></tr><tr><td>Page 24 of 24  We learned during the taper tantrum, frankly, in 2013 that was —that would be confusing to </td></tr><tr><td>markets.  So what we did was we set up the normalization of  the balance sheet in a way that was </td></tr><tr><td>very transparent so that you could look and know really, certainly as to T reasuries , pretty much </td></tr><tr><td>the exact amounts and the timing in which we would be returning these assets to private hands.  </td></tr><tr><td>And we put that out there very publicly and in the hope that it would be priced  in and </td></tr><tr><td>understood, and that then we could put the balance sheet on the side and have inter est rates be </td></tr><tr><td>the active tool of  policy.  </td></tr><tr><td>So that went along that way very well, and I think that division of labor was a good one </td></tr><tr><td>for our policy and for the benefit of the country.  I think that there’s —I think  the market is now </td></tr><tr><td>looking for more clarity around that , and I think we’ll be providing it.  That ’s what ’s happened.  </td></tr><tr><td>Thanks very much.  </td></tr></tbody></table></div>"
      ]
     },
     "metadata": {
      "application/vnd.databricks.v1+output": {
       "addedWidgets": {},
       "aggData": [],
       "aggError": "",
       "aggOverflow": false,
       "aggSchema": [],
       "aggSeriesLimitReached": false,
       "aggType": "",
       "arguments": {},
       "columnCustomDisplayInfos": {},
       "data": [
        [
         "January 30, 2019  Chairman Powell’s Press C onference  FINAL  "
        ],
        [
         "Page 1 of 24  Transcript of Chair man  Powell’s Press Conference  "
        ],
        [
         "January 30, 2019 "
        ],
        [
         "CHAIRMAN POWELL .  Good afternoon, everyone, and welcome.  I will start with a "
        ],
        [
         "recap of our discussions, including our assessment of the outlook for the economy and the "
        ],
        [
         "judgments we made about our interest rate policy and our balance sheet.  I will cover the "
        ],
        [
         "decisions we made today as well as our ongoing discussions of matters on which we expect to "
        ],
        [
         "make decisions in coming meetings.  "
        ],
        [
         "My colleagues and I have one overarching goal:  to sustain the economic expansion, with "
        ],
        [
         "a strong job market and stable prices, for the benefit of the American people.  The U.S. economy "
        ],
        [
         "is in a good place, and we will continue to use our monetary policy tools to help keep it there.  "
        ],
        [
         "The jobs picture continues to be strong, with the unemployment rate near historic lows and with "
        ],
        [
         "stronger wage gains.  Inflation remains near our 2 percent goal.  We continue to expect that the "
        ],
        [
         "American economy will grow at a solid pace in 2019, although likely slower than the very strong "
        ],
        [
         "pace of 2018.  We believe that our current policy stance is appropriate at this time.  "
        ],
        [
         "Despite this positive outlook, over the  past few months we have seen some crosscurrents "
        ],
        [
         "and conflicting signals about the outlook.  Growth has slowed in some major foreign economies, "
        ],
        [
         "particularly in China and Europe.  There is elevated uncertainty around several unresolved "
        ],
        [
         "government policy iss ues, including Brexit, ongoing trade negotiations, and the effects from the "
        ],
        [
         "partial government shutdown in the United States.  Financial conditions tightened considerably "
        ],
        [
         "late in 2018 and remain less supportive of growth than they were earlier in 2018.  An d, while "
        ],
        [
         "most of the incoming domestic economic data have been solid, some surveys of business and "
        ],
        [
         "consumer sentiment have moved lower, giving reason for caution.  January 30, 2019  Chairman Powell’s Press C onference  FINAL  "
        ],
        [
         "Page 2 of 24  We always emphasize that our policies are data dependent.  In other words, as economic "
        ],
        [
         "condit ions and the outlook evolve, we take that new information into account in setting our "
        ],
        [
         "policies.  We are now facing a somewhat contradictory picture of generally strong U.S. "
        ],
        [
         "macroeconomic performance alongside growing evidence of crosscurrents.  At such times, "
        ],
        [
         "common- sense risk management suggests patiently awaiting greater clarity —an approach that "
        ],
        [
         "has served policymakers well in the past.  With that in mind, I’d like to spell out how the Federal "
        ],
        [
         "Open Market Committee has been thinking about these issues. "
        ],
        [
         "At our December meeting, we noted the solid outlook for steady growth, vigorous job "
        ],
        [
         "creation, and price stability.  We also stressed that the extent and timing of any rate increases "
        ],
        [
         "were uncertain and would depend on incoming data and the evolving outlook.  We therefore said "
        ],
        [
         "that we would be paying close attention to global economic and financial developments and "
        ],
        [
         "assessing their implications for the economic outlook. "
        ],
        [
         "Today the FOMC decided that the cumulative effects of those developments over the last "
        ],
        [
         "several months warrant a patient, wait- and-see approach regarding future policy changes.  In "
        ],
        [
         "particular, our statement today says, “In light of global economic and financial developments and "
        ],
        [
         "muted inflation pressures, the Committee will be patient as it determin es what future adjustments "
        ],
        [
         "to the target range for the federal funds rate may be appropriate.”  "
        ],
        [
         "This change was not driven by a major shift in the baseline outlook for the economy.  "
        ],
        [
         "Like many forecasters, we still see “sustained expansion of economic activi ty, strong labor "
        ],
        [
         "market conditions, and inflation near . . . 2 percent” as the likeliest case.  But the crosscurrents I "
        ],
        [
         "mentioned suggest the risk of a less  favorable outlook.  In addition, the case for raising rates has "
        ],
        [
         "weakened somewhat.  The traditional  case for rate increases is to protect the economy from risks "
        ],
        [
         "that arise when rates are too low for too long, particularly the risk of too- high inflation.  Over the January 30, 2019  Chairman Powell’s Press C onference  FINAL  "
        ],
        [
         "Page 3 of 24  past few months, that risk appears to have diminished.  Inflation readings have been muted, and "
        ],
        [
         "the recent drop in oil prices is likely to push headline inflation lower still in coming months.  "
        ],
        [
         "Further, as we noted in our postmeeting statement, while survey -based measures of inflation "
        ],
        [
         "expectations have been stable, financial market measures of i nflation compensation have moved "
        ],
        [
         "lower.  Similarly, the balance—the risk of financial imbalances appears to have receded, as a "
        ],
        [
         "number of indicators that showed elevated levels of financial risk appetite last fall have moved "
        ],
        [
         "closer to historical norms.  In this environment, we believe we can best support the economy by "
        ],
        [
         "being patient in evaluating the outlook before making any future adjustment to policy.  "
        ],
        [
         "Let me now turn to balance sheet normalization.  Over its past three meetings, the FOMC "
        ],
        [
         "has held in- depth discussions on the final stages of this process.  Today we made some important "
        ],
        [
         "progress in clarifying the path forward, as summarized in the Statement Regarding Monetary "
        ],
        [
         "Policy Implementation and Balance Sheet Normalization that we released with today’s F OMC "
        ],
        [
         "statement.  "
        ],
        [
         "The Committee made the fundamental decision today to continue indefinitely using our "
        ],
        [
         "current operating procedure for implementing monetary policy.  That is, we will continue to use "
        ],
        [
         "our administered rates to control the policy rate with an am ple supply of reserves so that active "
        ],
        [
         "management of reserves is not required.  This is often called a “floor system” or an “abundant "
        ],
        [
         "reserves system.”  Under the current set of operating procedures, as outlined in the "
        ],
        [
         "implementation note released today, th is means that the federal funds rate, our active policy tool, "
        ],
        [
         "is held within its target range by appropriately setting the Federal Reserve’s administered rates of "
        ],
        [
         "interest on reserves, as well as the offer rate on the overnight reverse repo facility, without "
        ],
        [
         "managing the supply of reserves actively.  As the minutes of our recent discussions have "
        ],
        [
         "indicated, the FOMC strongly believes that this approach provides good control of short -term January 30, 2019  Chairman Powell’s Press C onference  FINAL  "
        ],
        [
         "Page 4 of 24  money market rates in a variety of market conditions and effective tran smission of those rates to "
        ],
        [
         "broader financial conditions. "
        ],
        [
         "Settling this central question clears the way for the FOMC to address a number of further "
        ],
        [
         "questions regarding the remaining stages of balance sheet normalization.  The decision to retain "
        ],
        [
         "our current operating procedure means that, after allowing for currency in circulation, the "
        ],
        [
         "ultimate size of our balance sheet will be driven principally by financial institutions’ demand for "
        ],
        [
         "reserves, plus a buffer so that fluctuations in reserve demand do not requir e us to make frequent "
        ],
        [
         "sizable market interventions.  Estimates of the level of reserve demand are quite uncertain, but "
        ],
        [
         "we know that this demand in the post -crisis environment is far larger than before.  Higher reserve "
        ],
        [
         "holdings are an important part of the stronger liquidity position that financial institutions must "
        ],
        [
         "now hold.  Moreover, based on surveys and market intelligence, current estimates of reserve "
        ],
        [
         "demand are considerably higher than estimates of a year or so ago.  The implication is that the "
        ],
        [
         "normali zation of the size of the portfolio will be completed sooner, and with a larger balance "
        ],
        [
         "sheet, than in previous estimates. "
        ],
        [
         "In light of these estimates and the substantial progress we have made in reducing "
        ],
        [
         "reserves, the Committee is now evaluating the appro priate timing for the end of balance sheet "
        ],
        [
         "runoff.  This decision will likely be part of a plan for gradually reaching our ultimate balance "
        ],
        [
         "sheet goals while minimizing risks to achieving our dual- mandate objectives and avoiding "
        ],
        [
         "unnecessary market disrupti on.  We will be finalizing these plans at coming meetings.  "
        ],
        [
         "The process of balance sheet normalization is unprecedented.  Throughout this process "
        ],
        [
         "we’ve attempted to lay out our plans well in advance, and we’ve been willing to make changes as "
        ],
        [
         "we learn more about the process.  The implementation and normalization statement released "
        ],
        [
         "today is intended to provide some additional clarity regarding the conditions under which we January 30, 2019  Chairman Powell’s Press C onference  FINAL  "
        ],
        [
         "Page 5 of 24  might adjust our plans.  The statement makes three points:  First, as we’ve long emphasi zed, the "
        ],
        [
         "federal funds rate is our active monetary policy tool. "
        ],
        [
         "Second, as far as the particular details of normalization are concerned, we will not "
        ],
        [
         "hesitate to make changes in light of economic and financial developments.  This does not mean "
        ],
        [
         "that we would use the balance sheet as an active tool, but occasional changes could be warranted.  "
        ],
        [
         "Third, we repeat a sentence of the normalization principles we adopted in June of 2017.  "
        ],
        [
         "While the federal funds rate would remain our acti ve tool of policy in a wide range of scenarios, "
        ],
        [
         "we recognize that the economy could again present conditions in which federal funds rate policy "
        ],
        [
         "is not sufficient.  In those cases, the FOMC would be prepared to use its full range of tools, "
        ],
        [
         "including balance  sheet policy.  "
        ],
        [
         "Times of economic uncertainty put a premium on the clarity and predictability of FOMC "
        ],
        [
         "policy.  We are committed to clearly explaining what we are doing and why we’re  doing it, both "
        ],
        [
         "regarding the path of rates and also regarding management of  the balance sheet.  We believe that "
        ],
        [
         "this transparency is how we can best contribute to macroeconomic stability. "
        ],
        [
         "Thank you. I ’ll be glad to take your questions.  "
        ],
        [
         "HOWARD SCHNEIDER.  Howard Schneider with Reuters.  So you’ ve said many times "
        ],
        [
         "recently that policy was still accommodative and that it needn ’t be so.  You ’ve said recently that "
        ],
        [
         "policy —the state of the policy was still accommodative and that the economy didn’ t require that "
        ],
        [
         "anymore.  Is that still the case?  If so, how do you justify the removal of  the need for some "
        ],
        [
         "further interest rate increases?  Basically, are we at neutral now , or does the economy still need "
        ],
        [
         "accommodation?  "
        ],
        [
         "CHAIRMAN POWELL.  We think that our policy is at the appropriate point right now.  "
        ],
        [
         "We think our policy stance is appropriat e right now .  We do.  We also know that our policy rate January 30, 2019  Chairman Powell’s Press C onference  FINAL  "
        ],
        [
         "Page 6 of 24  is now in the range of the Committee ’s estimates of neutral.  So we ’ll be—again, we think our "
        ],
        [
         "policy stance is appropriate.  "
        ],
        [
         "HEATHER LONG.  Heather Long from the Washington Post.  Last week, the IMF said "
        ],
        [
         "risks are clearly skewed to the downside for the U.S. and global economy.  Can you clarify —"
        ],
        [
         "does the FOMC see risks as skewed to the downside, particularly after you removed the "
        ],
        [
         "statement about risk s being balanced?  "
        ],
        [
         "CHAIRMAN POWELL.  We had an extensive discussion of the baseline and also of the "
        ],
        [
         "risks to the baseline , and the risks are , of course , the fact that financial conditions have tightened, "
        ],
        [
         "that global growth has slowed, as well as some, let ’s say, government -related risks like Brexit "
        ],
        [
         "and trade discussions , and also the effects and ultimate disposition of the shutdown.  So we "
        ],
        [
         "looked at —we look at those , and the way we think of it is that policy —we will use our policy , "
        ],
        [
         "and we have, to offset risks to the baseline.  So we view the baseline as still solid , and part of that "
        ],
        [
         "is the way we adjusted our baseline to address those risks.  So that ’s the way we ’re thinking "
        ],
        [
         "about that now. "
        ],
        [
         "SAM FLEMING.  Thanks.   Sam Fleming from the Financial Times.  The Fed has linked "
        ],
        [
         "its commitment to patie nce in part to subdued inflation outcomes.  Would you be comfortable "
        ],
        [
         "with continuing patience even if there are modest, if transient, overshoots to the inflation target "
        ],
        [
         "by core inflation?  How sensitive are you right now to developments in core inflation w hen "
        ],
        [
         "determining the next move?  Thanks.  "
        ],
        [
         "CHAIRMAN POWELL.  You know, generally speaking, we think the outlook is "
        ],
        [
         "favorable , and we think that these crosscurrents that I referred to —these risks —are going to be "
        ],
        [
         "with us for a while.  We think our stance is appropriate.  We think there ’s no pressing need to "
        ],
        [
         "change our policy stance and no need to rush to judgment there.  January 30, 2019  Chairman Powell’s Press C onference  FINAL  "
        ],
        [
         "Page 7 of 24  I would say that we ’ll be looking at a full range of data , and that will include inflation "
        ],
        [
         "data.   It will include all data relevant to our dual mandate of stable prices and maximum "
        ],
        [
         "employment.  Remember that our inflation objective is a symmetric one, meaning that we are —"
        ],
        [
         "we’re always trying to get to 2 percent, and we don’ t look at —we look at inflatio n equally on "
        ],
        [
         "both sides.  So I can ’t get into specific hypotheticals , but I do believe that we have a symmetric "
        ],
        [
         "objective , and I believe we’ ll act that way.  "
        ],
        [
         "RICHARD MILLER.  We learned from the last minutes  of the meeting that some of the "
        ],
        [
         "tweaks you make t o the statement have a lot more portent than we thought.  In light of that, I ’m "
        ],
        [
         "wondering if you can provide us with a “ decoder ring ” for this statement.  “ Adjustments ”—does "
        ],
        [
         "that suggest the next move in interest rates is as likely to be up as down?  And w hen you twin “ in "
        ],
        [
         "light of global economic and financial developments ” with “ muted inflation pressures, ” does that "
        ],
        [
         "suggest you have to see both the cessation of these crosscurrents that you’ ve talked about and "
        ],
        [
         "inflation moving up before you get off the dime , so to speak, and move?  "
        ],
        [
         "CHAIRMAN POWELL.  Sorry —say again what the first question was ? "
        ],
        [
         "RICHARD MILLER.  First question is, “ adjustments ”—is that meant to imply the next "
        ],
        [
         "move is as most likely to be up as down?  "
        ],
        [
         "CHAIRMAN POWELL.  Ye s.  I’m just going to say that the —it’ s going to depend "
        ],
        [
         "entirely on the data.  We ’re not making a judgment.  We don’ t have a strong prior.   We will be —"
        ],
        [
         "we will patiently wait and let the data clarify.  Some of the crosscurrents that I refer to may be "
        ],
        [
         "with us for a  while , and I think we ’ll be looking at seeing those clear up as it relates to —as they "
        ],
        [
         "relate to the outlook for the U.S . and that will be an important aspect as well.  Your second "
        ],
        [
         "question was?  January 30, 2019  Chairman Powell’s Press C onference  FINAL  "
        ],
        [
         "Page 8 of 24  RICHARD MILLER.   Would it be not just the cessation of those crosscurrents, but the "
        ],
        [
         "end of these muted inflation pressures —are they both sort of things that are necessary for you to "
        ],
        [
         "change this “ patient ” stance?  "
        ],
        [
         "CHAIRMAN POWELL.  You know, it ’s really hard to speak about generalities.  We ’ll "
        ],
        [
         "be looking at everything , but I do think that, you know, muted inflation pressures —you know, "
        ],
        [
         "you would want —I would want to see a need for further rate increases , and, for me, a big part of "
        ],
        [
         "that would be inflation.  It wouldn’ t be the only thing , but it would certainly be importa nt. "
        ],
        [
         "STEVE LIESMAN.  Steve Liesman, CNBC.  Mr. Chairman, did the Committee discuss "
        ],
        [
         "an actual change to the runoff policy or the runoff schedule right now?   If so, is that under "
        ],
        [
         "consideration right now , and when might we know?  The second thing is, I have to nail down this "
        ],
        [
         "thing.  You guys, Fed folks, keep mentioning the “market average”  or the “market outlook”  for "
        ],
        [
         "the size of the balance sheet.  Are you endorsing the market average, which is 3 ½ trillion?   And "
        ],
        [
         "if you ’re not endorsing it, why do you keep mentioning it?  "
        ],
        [
         "CHAIRMAN POWELL.  Okay.  So today I ’m here to talk about decisions and also "
        ],
        [
         "discussions about decisions that haven’ t been made.  So we ’re talking about the latter thing, "
        ],
        [
         "which is discussions , and so I can’t get ahead of where decisions are.  But so the Committee is —"
        ],
        [
         "what we ’re looking to do is create a whole plan that will bring us to our goal, our longer -run "
        ],
        [
         "goal, which is a balance sheet no larger than it needs to be for us to efficiently conduct —"
        ],
        [
         "efficiently and effectively conduct monetary policy, but to do so in a way that doesn’ t put our "
        ],
        [
         "goals at risk or result in unnecessary market turmoil.  So there are a lot of pieces to that , and "
        ],
        [
         "we’ve learned over time that it ’s—when making these —when designing these plans, like , for "
        ],
        [
         "example, the  original normalization plan, it’ s good to take your time.  Let the best ideas rise to "
        ],
        [
         "the top.  Let them stand the test of time and argument and then move when you’ re really January 30, 2019  Chairman Powell’s Press C onference  FINAL  "
        ],
        [
         "Page 9 of 24  comfortable with what you’ve got and when you feel you can communicate it clearly.  So I don’ t "
        ],
        [
         "want to get ahead of that process today.  "
        ],
        [
         "But—so we ’ve discussed —there are a number of pieces to that puzzle.  There are several "
        ],
        [
         "different pieces to them , and I think they ’re coming —and I’m very pleased with the progress that "
        ],
        [
         "we’ve made, and, you know, the piece that you mentioned is something that is in those "
        ],
        [
         "discussions.  That ’s the first question.  I’m not going to give our estimate or ratify anybody else ’s "
        ],
        [
         "estimate of what the equilibrium balance sheet is here today.  There are estimates out there, but "
        ],
        [
         "I’m not at a point today where I ’m going to be giving out numbers on that.  But there are "
        ],
        [
         "estimates , and I think they ’re consistent with what I said, broadly speaking.  "
        ],
        [
         "STEVE LIESMAN.  So, just to clarify —I’m sorry, you did discuss reducing the pace of "
        ],
        [
         "the runoff?  That sounds like what you said, to  me. "
        ],
        [
         "CHAIRMAN POWELL .  Yes, it’s —so, a gain, we haven’ t made any decisions.  There n o "
        ],
        [
         "decisions have been made.  There are different pieces of the thing , and that is in the discussion as "
        ],
        [
         "one of many pieces that is in the discussion.  A nd that was reflected in the last minutes, actually.  "
        ],
        [
         "NICK TIMIRAOS.  Thanks.  Nick Timiraos of the Wall Street Journal .  Chairman "
        ],
        [
         "Powell, I want to follow up on Steve ’s question.  The size of the balance sheet obviously matters "
        ],
        [
         "a great deal , but, so, too, if you follow the arguments that were made when the Fed was "
        ],
        [
         "purchasing these assets, does the duration of those holdings.  So once you are —once you reach "
        ],
        [
         "the terminal level of reserves and you have to reinvest maturing mortgage -backed securities into "
        ],
        [
         "Treasuries , it will matter a great deal , of course , where along the curve the Fed resumes those "
        ],
        [
         "reinvestments.  "
        ],
        [
         "And so I wonder, what does your staff research show about the degree of accommodation "
        ],
        [
         "that would be provided by either moving to the front end of the curve and holding or investing , January 30, 2019  Chairman Powell’s Press C onference  FINAL  "
        ],
        [
         "Page 10 of 24  perhaps , in shorter maturity assets , versus the other approach that was identified in the December "
        ],
        [
         "meeting minutes, which would be to si mply reflect issuance of the outstanding T reasury "
        ],
        [
         "maturities?  And which approach do you think is more a ppropriate in the current environment ? "
        ],
        [
         "CHAIRMAN POWELL.  These are great questions.  Let me say that the question of the "
        ],
        [
         "ultimate composition of our balance sheet in the longer run is a very important one , and it ’s one "
        ],
        [
         "that we see ourselves as coming to, you know, fairly soon, as in, in coming meetings.  It won ’t be "
        ],
        [
         "the first thing we work on, but it will be one of the first things that we try to resolve.  We had "
        ],
        [
         "discussions at one of the last two meetings on this , and we haven ’t come to a judgment on that .  "
        ],
        [
         "And, you know, I wouldn’ t comment beyond saying that we understand that ’s a key question, "
        ],
        [
         "and there are, you know, there are issues to be decided.  There are benefits and costs to doing —"
        ],
        [
         "to taking different approaches , and I wouldn’ t want to prejudge them today.  "
        ],
        [
         "BINYAMIN APPELBAUM.  Binya Appelbaum, New York Times .  I am struggling a "
        ],
        [
         "little bit to understand what has changed since we sat here with you six weeks ago.  You ’ve said "
        ],
        [
         "today that you think that inflation would be the reason that the Fed would need to continue "
        ],
        [
         "raising rates.  Has the inflation outlook shifted that dramatically in the last six weeks?  Can you "
        ],
        [
         "speak specifically to why you ’ve mo ved from a posture of saying we expect to keep raising rates "
        ],
        [
         "this year to a posture of standing still?  "
        ],
        [
         "CHAIRMAN POWELL.  I’d point to a couple of things.  First, the narrative of slowing "
        ],
        [
         "global growth continues, if you will.  The incoming data have shown more of that.  We ’ve seen "
        ],
        [
         "that both in China and in Western Europe, and so that ’s an important —that has important "
        ],
        [
         "implications for us , and that story has —let ’s just say it continues.  "
        ],
        [
         "And, in addition— I mean, I think important —possibly less important now —probably "
        ],
        [
         "less important now , but—has been the shutdown, which will leave some sort of imprint on first -January 30, 2019  Chairman Powell’s Press C onference  FINAL  "
        ],
        [
         "Page 11 of 24  quarter GDP.  We don’ t know the ultimate resolution of it.  If that ’s all there is , and the "
        ],
        [
         "shutdown is gone and there isn’ t another shutdown, then we ’ll get most of that back in the "
        ],
        [
         "second period—second quarter.  "
        ],
        [
         "So those things —in addition, you know, you have to look back.  Financial conditions "
        ],
        [
         "began to tighten in the fourth quarter .  And they now have persisted and remain tight er—"
        ],
        [
         "significantly tighter, let ’s say —than they were , and that ’s something that we have to take into "
        ],
        [
         "account as well.  So that ’s where we are.  "
        ],
        [
         "MICHAEL MCKEE.  Michael McKee from Bloomberg Television and Radio.  You said "
        ],
        [
         "you like to be a plain speaker , so let me try to have you put this as plainly as possible.  Is it fair to "
        ],
        [
         "characterize this as not a pause in a tightening cycle, but the end of the tightening cycle now —a "
        ],
        [
         "new regime for the Fed?  And , if not, can you put a time frame on “patient ”?  Does “ patient ” "
        ],
        [
         "have some sort of time frame?  And I ’m wondering about your reaction to the criticism you got "
        ],
        [
         "on your December 19th news conference, your later statements —do you feel you’ve put a "
        ],
        [
         "“Powell put” into the markets ? "
        ],
        [
         "CHAIRMAN POWELL.  So , patience— I think we ’re going to know in hindsight , "
        ],
        [
         "because the length of this patient period is going to depend entirely on incoming data and its "
        ],
        [
         "implications for the outlook.  So that ’s going to be —so it’ s hard to say, you know, it’ s hard to "
        ],
        [
         "think of what to call it a t this point or how to label it.  "
        ],
        [
         "So really, your second question is about how do we think about financial conditions.  "
        ],
        [
         "And I would say this :  We think about a broad range of financial conditions, not just one or two "
        ],
        [
         "things.  You know, it’ s interest rates, it’ s risk spreads, it’ s currency, it’ s the stock market, it’ s "
        ],
        [
         "credit availability, it’ s many, many factors.  And what matters for financial conditions is , when "
        ],
        [
         "there are changes and those changes are sustained for a period of time, then they become January 30, 2019  Chairman Powell’s Press C onference  FINAL  "
        ],
        [
         "Page 12 of 24  importa nt for us because they have important macroeconomic implications.  So that ’s how we "
        ],
        [
         "think about it.  "
        ],
        [
         "So we don’ t react to, you know, to most things that happen in the financial markets.  But "
        ],
        [
         "when we see a sustained change in financial conditions, then that ’s something that has to play "
        ],
        [
         "into our thinking.  In fact, our policy works through changing financial conditions , so it’ s sort of "
        ],
        [
         "the essence of what we do.  "
        ],
        [
         "VICTORIA GUIDA.  Victoria Guida with Politico.  I just wanted to ask, first of all , "
        ],
        [
         "about whether t he Fed is gathering information about some of the new money  laundering "
        ],
        [
         "information that ’s come out about Deutsche Bank and Danske Bank and whether you have any "
        ],
        [
         "concerns there?  And then, also, I was just wondering if you could say whether there’ s any kind "
        ],
        [
         "of timeline on when the Fed might make a decision on real -time payments and whether you’re "
        ],
        [
         "going to build a real -time payment system?  "
        ],
        [
         "CHAIRMAN POWELL.   Right.  So, on the first question, I can —we don’ t comment on "
        ],
        [
         "individual investigations or whether they ’re happening.  I will say that we take our enforcement "
        ],
        [
         "powers very seriously , and we put them to work when we feel it’ s justified.  "
        ],
        [
         "In terms of real -time payments, it’ s something we ’re very actively working on.  As you "
        ],
        [
         "obviously know, we have some proposals  out, and we’re considering them.  You know, the thing "
        ],
        [
         "is, it’s very important in that space to consult with the full range of market participants and "
        ],
        [
         "interest groups, consumer groups , and we ’ve done that, as I’m sure you know, over a period of "
        ],
        [
         "years.  We don’ t have plenary authority to just do things , for the most part , in the payment space.  "
        ],
        [
         "We’ve been more of a convener, bringing industry and the public —public interest groups —and  "
        ],
        [
         "all those groups around the table.  And we’ve— I think we ’ve played a constructive role in that "
        ],
        [
         "respect , and I believe that will continue.  January 30, 2019  Chairman Powell’s Press C onference  FINAL  "
        ],
        [
         "Page 13 of 24  JIM PUZZANGHERA.  Thanks.  Jim Puzzanghera with the L .A. Times .  You and your "
        ],
        [
         "colleagues may have noticed, President Trump, for the past six months, has been urging the Fed "
        ],
        [
         "not to raise r ates—to stop raising rates.  How would you respond to those who would suggest "
        ],
        [
         "that the Fed just caved to the president ’s demands?  "
        ],
        [
         "CHAIRMAN POWELL.  So what we care about —and , really, the only thing we care "
        ],
        [
         "about at the Fed —is doing our job for the American people and using our tools appropriately.  So "
        ],
        [
         "that’s very strongly our culture.  I think anyone who knows the Fed or who has worked at the "
        ],
        [
         "Fed would recognize that description.  So we ’re always going to do what we think is the right "
        ],
        [
         "thing.  We ’re never go ing to take political considerations into account or discuss them as part of "
        ],
        [
         "our work.  You know, we’re human.  We make mistakes .  But we ’re not going to make mistakes "
        ],
        [
         "of character or integrity.  And I would want the public to know that , and I would want them to "
        ],
        [
         "see that in our actions. "
        ],
        [
         "EDWARD LAWRENCE.  Edward Lawrence from F ox Business News.  Thank you, Mr. "
        ],
        [
         "Chairman.  The long -term federal funds rate is 2.8 percent.  I’ve talked the last year with a "
        ],
        [
         "number of Fed presidents who worry that under 3 percent is not enough to handle the next "
        ],
        [
         "recession.  You say that ’s your first tool , that’s your primary means of adjusting monetary "
        ],
        [
         "policy.  So with a larger balance sheet —with a larger balance sheet, could you —how could you "
        ],
        [
         "handle that next re cession , then , with the combination of those two?  "
        ],
        [
         "CHAIRMAN POWELL.   I guess the sense of your question is that we could be in a "
        ],
        [
         "situation in the future —we hope not , but—we could be in a situation where we ’d like to cut rates "
        ],
        [
         "more than we can effectively , and we hit the zero lower bound.  We don’ t think anything like "
        ],
        [
         "that is in the cards.  Now,  there’ s no reason to think that it would be.  But as we said in today ’s "
        ],
        [
         "release, if that happens, then we ’ll use the full range of our tools , and that includes the balance January 30, 2019  Chairman Powell’s Press C onference  FINAL  "
        ],
        [
         "Page 14 of 24  sheet.  But we would use it after using our conventional tools, which would be the interest rate "
        ],
        [
         "and forward guidance about the interest rate.  "
        ],
        [
         "EDWARD LAWRENCE.   Even if you have a large balance sheet —$4 trillion?   Above "
        ],
        [
         "$4 trillion?  "
        ],
        [
         "CHAIRMAN POWELL.  Yes.  There would be room to do substantially more.  "
        ],
        [
         "DONNA BORAK.  Chairman Powell, Donna Borak with CNN.  I just wanted to go back "
        ],
        [
         "to—you had mentioned on the crosscurrents, the government shutdown issue.  You mentioned a "
        ],
        [
         "couple of weeks ago that that information would clearly show up in the data.  I’m wondering, as "
        ],
        [
         "you guys discussed during this week ’s meeting, what the potential economic impact would be of "
        ],
        [
         "the shutdown, the possibility of a second one, whether or not it would dim inish consumer "
        ],
        [
         "confidence, have some severe ripple effects ?  Just talking to other folks outside, businesses —"
        ],
        [
         "clearly they were suffering and seeing a lot of pain.  I’m just wondering about , for American "
        ],
        [
         "families that missed two paychecks, how is this going  to play  out for them for the months "
        ],
        [
         "to come?  "
        ],
        [
         "CHAIRMAN POWELL.  Right.  So let me give you the economic side of it  first—is that, "
        ],
        [
         "even with a fairly long shutdown, as long as that ’s the end of it and everyone gets their "
        ],
        [
         "backpay —except the contractors, I guess, the private- sector contractors , but—some people get "
        ],
        [
         "their backpay , then the lost GDP will be regained in the second quarter.  So that’s that.  I would "
        ],
        [
         "say that the —you know, we all see the suffering and the heartbreak and all the pain people go "
        ],
        [
         "through.  I see, you know, federal employees doing their work, and I’m, you know, really "
        ],
        [
         "grateful they did.  I mean, to be doing your work while you’re not getting paid, it’s something we "
        ],
        [
         "should all be grateful for.   Did that answer both your questions?  January 30, 2019  Chairman Powell’s Press C onference  FINAL  "
        ],
        [
         "Page 15 of 24  DONNA BORAK.  Yes, it does.  So you don’t see a permanent effect of this shutdown?  "
        ],
        [
         "And I’m just wondering if you’re thinking about the path of future policy and the possibility of "
        ],
        [
         "reaching this point again on February 15?  "
        ],
        [
         "CHAIRMAN POWELL.  So would there be a p ermanent effect?  As I mentioned, there "
        ],
        [
         "wouldn’ t be if there isn ’t another shutdown.  If there were going to be a permanent effect or a "
        ],
        [
         "lasting effect, let ’s say, it would be from a longer shutdown or perhaps a second shutdown, and "
        ],
        [
         "that would be through the channel of a loss of confidence in our ability to make policy in the "
        ],
        [
         "United States.  That would be the channel.  And I think that was something that we and many "
        ],
        [
         "others were worried about as there was talk of an even longer shutdown.  In terms of ideas for "
        ],
        [
         "not having more shutdowns, I know Congress is actually looking at some of those , so I think that "
        ],
        [
         "could be a profitable thing to explore.  "
        ],
        [
         "MARTIN CRUTSINGER.  Marty Crutsinger, AP.  The Beige Book that was prepared for "
        ],
        [
         "this mee ting noted a rising concern among business contacts about higher trade tariffs and the "
        ],
        [
         "tensions there.  Did that play a part in the discussion and the decision that you made on shifting "
        ],
        [
         "the wording i n your statement?  "
        ],
        [
         "CHAIRMAN POWELL.  So , trade— you sound l ike you’re an avid reader of the Beige "
        ],
        [
         "Book, and that ’s great —the trade, as you will know , then —trade has been a big feature in the "
        ],
        [
         "Beige Book for some time now.  The Beige Book is a collection of all of our —of the comments "
        ],
        [
         "that our Reserve Bank presidents  get from their D istricts.  It’s incredibly valuable , because "
        ],
        [
         "you’re getting actual reports from people who are on the line.  And there have been real concerns "
        ],
        [
         "about trade right along the line, both in terms of availability of materials and costs and retal iation "
        ],
        [
         "and that kind of thing.  So that ’s been a concern.  January 30, 2019  Chairman Powell’s Press C onference  FINAL  "
        ],
        [
         "Page 16 of 24  I would say the longer -term concern , though, is the negotiations that are going on.  If they "
        ],
        [
         "linger, then there could be more and more uncertainty , and you worry over time that that could "
        ],
        [
         "have an effect on business confidence.  So far, the actual amount of tariffs that have been applied "
        ],
        [
         "both here and in China is not enough to have material effects on GDP either here or in China.  So "
        ],
        [
         "the concern is more a longer —for me —a longer , drawn -out set of negotiations back and forth, "
        ],
        [
         "which could result in sapping business confidence.  Uncertainty is not the friend of business.  "
        ],
        [
         "NANCY MARSHALL -GENZER.  I’m Nancy Marshall -Genzer from Marketplace.   I "
        ],
        [
         "want to talk to  you about corporate debt.  Are you worried that by taking a pause in raising "
        ],
        [
         "interest rates —we ’ve had low interest rates for so long —are you contributing to a bubble in "
        ],
        [
         "corporate debt?  "
        ],
        [
         "CHAIRMAN  POWELL.  So , we did —we ’ve called out corporate debt as a risk —more "
        ],
        [
         "of a macroeconomic risk, I think, than a financial stability risk, t he sense of that being that if you "
        ],
        [
         "have companies that are highly levered and we do go into a downturn, they ’re going to be less "
        ],
        [
         "able to weather that and keep serving their customers  and, you know, may have to do layoffs and "
        ],
        [
         "things like that.  So they can amplify, in effect, a negative downturn.  So we watch that.  "
        ],
        [
         "We also watch carefully for the exposure of the financial system to these companies.   In "
        ],
        [
         "other words, banks are arranging a lot of these loans.  The question is, what is their exposure?  "
        ],
        [
         "Do they retain big pieces of the loans?  Do they have obligations to underwrite loans which build "
        ],
        [
         "up in a pipeline?  So we monitor those risks very carefully.  And, frankly, the banks monitor "
        ],
        [
         "them much better with our support and help than they did before the crisis.   So it’ s a concern.  "
        ],
        [
         "It’s something that we ’re watching.   Of course, you know, November, December, and January "
        ],
        [
         "were much slower months for those sorts of things.  But , you know, it’ ll be something that we ’re "
        ],
        [
         "always paying close attention to.  January 30, 2019  Chairman Powell’s Press C onference  FINAL  "
        ],
        [
         "Page 17 of 24  GREG ROBB.  Chairman Powell, Greg Robb from MarketWatch.  Financial markets "
        ],
        [
         "have reacted strongly to the decision and the press conference.  The Dow Jones i ndustrial "
        ],
        [
         "average is up more than, like, 500 points.  There’ s a sense in the market that there’ s, you know, "
        ],
        [
         "what people call the “ Powell put ” on the markets.   Are financial markets wrong in that "
        ],
        [
         "assessment?  "
        ],
        [
         "CHAIRMAN POWELL.  You know, I would point to all the continuity here.   You know, "
        ],
        [
         "the thing we did on the balance sheet is something we ’ve been working on for, frankly, years —"
        ],
        [
         "the thing we announced today.  And so we ’re providing clarity there.  I think that ’s a "
        ],
        [
         "constructive thing to do.  "
        ],
        [
         "My—honestly —only motivation is to do the right thing for the economy and for the "
        ],
        [
         "American people—that ’s it.  And this situation, I think, calls for patience —I think it does.  And "
        ],
        [
         "it’s just the stance of policy we think is appropriate.  We see these uncertainties , and we see a "
        ],
        [
         "time wh en we can afford to —we have the luxury of being able to wait and watch , and that ’s "
        ],
        [
         "what we ’re planning to do.  And I think it’ s the right thing .  I feel strongly that it is.  "
        ],
        [
         "JOHN HELTMAN.  Chairman Powell, the Office of the Comptroller of the Currency last  "
        ],
        [
         "year completed its f intech c harter .  And one of the questions around that charter has been "
        ],
        [
         "whether the Federal Reserve will allow such a chartered bank to access the payment system.  I’m "
        ],
        [
         "curious if you think a f intech c harter is a good idea in general , and what conditions you think "
        ],
        [
         "might be necessary to allow the Fed to allow such a chartered institution access to the payment "
        ],
        [
         "system.  "
        ],
        [
         "CHAIRMAN POWELL.  I’m not going to be able to help you much on that.  Those are "
        ],
        [
         "great questions , and those are questions that are, you know, that our great supervisory people are "
        ],
        [
         "looking at.  I think we ’re open to these ideas , but I don’ t have any news for you on that today.  January 30, 2019  Chairman Powell’s Press C onference  FINAL  "
        ],
        [
         "Page 18 of 24  STEVE BECKNER.  Thank you.  Steve Beckner, freelance journalist reporting for NPR.  "
        ],
        [
         "Mr. Chairman, you’ve echoed the widespread concern about slowing growth in China and "
        ],
        [
         "elsewhere in the world , but I wonder whether it’ s possible that slower growth abroad might "
        ],
        [
         "actually be beneficial to this country , in some respects , at least —for example, perhaps increasin g "
        ],
        [
         "capital inflows and putting downward pressure on long -term rates in this country, as happened in "
        ],
        [
         "the Asian financial crisis in the late  ’90s. "
        ],
        [
         "CHAIRMAN POWELL.  You know, Steve, it’ s certainly possible.  Ultimately , though, "
        ],
        [
         "you know, a strong global economy is good for us.  We export to these countries.  We trade with "
        ],
        [
         "these countries.  I mean, part of the story of 2017, for example, was that European growth kept "
        ],
        [
         "coming in stronger and stronger , and that meant the euro was strong , and that supported our "
        ],
        [
         "exports.  So , ultimately, I think we benefit from having strong growth abroad, although you point "
        ],
        [
         "to an interesting case.  "
        ],
        [
         "MARK HAMRICK.  Chairman Powell, Mark Hamrick with Bankrate.  Thank you.  As "
        ],
        [
         "you probably heard, the Congressional Budget Office is projecting that federal debt is expected "
        ],
        [
         "to surge to about $29 trillion over the next 10 years, reaching the highest share since the end of "
        ],
        [
         "World War II.  First of all, does that sound like it could be a reasonable forecast, with the "
        ],
        [
         "Administration seeming to take plenty of opportunities to question the legitimacy of CBO?  And "
        ],
        [
         "then, secondly, what effect does that have on interest rates and the public if indeed that ’s even "
        ],
        [
         "close to being true?  "
        ],
        [
         "CHAIRM AN POWELL.  So , first, it is important —we don’ t do fiscal policy.  We don’ t "
        ],
        [
         "advise the government or Congress on fiscal policy , so I’ll limit myself to more high -level "
        ],
        [
         "comments and say that it is not a secret—it is a long -known fact that the U.S. federal g overnment "
        ],
        [
         "budget is on an unsustainable path, and that needs to be addressed.  And that is driven principally January 30, 2019  Chairman Powell’s Press C onference  FINAL  "
        ],
        [
         "Page 19 of 24  by the combination of health- care costs —really , due to our health- care delivery system —and the "
        ],
        [
         "aging of the population.  And there’ s no time like now—when the economy is healthy, growing, "
        ],
        [
         "people are working —to go after that problem.  Ultimately, we will have to.  We don’ t have a "
        ],
        [
         "forecast.  We don’ t forecast those things.  I have no reason to doubt CBO ’s numbers on this.  I "
        ],
        [
         "haven ’t actually looked at  that report , but my general experience with them is that it’ s a "
        ],
        [
         "professional outfit. "
        ],
        [
         "MARK HAMRICK.  What does that look like , if that really takes place 10 years down "
        ],
        [
         "the road?  "
        ],
        [
         "CHAIRMAN POWELL.  So, you know, first of all, our —the work that we do relates "
        ],
        [
         "more to the medium term rather than the long term.  And so I don ’t see this , in particular , as a "
        ],
        [
         "threat to this business cycle or to the economy this year.  It’s more in the longer run, we ’ll be "
        ],
        [
         "spending all of our money on paying interest and not on the t hings that we really need to be "
        ],
        [
         "doing for future generations and for our own generation.  So it’ s a serious problem , but it’ s not a "
        ],
        [
         "problem that is something that either helps or prevents the Fed from doing our job today.  "
        ],
        [
         "PAUL KIERNAN.  Hi, Chairman.  Paul  Kiernan from Dow Jones Newswires.   I know "
        ],
        [
         "where the FOMC participants ’ estimates for the long -run interest rate are.  They ’re all above "
        ],
        [
         "2½ percent.  Right now we’re between 2.25 and 2½.  So I think a key question right now is, is "
        ],
        [
         "policy accommodative at this moment?   Are we looking at staying accommodative for some "
        ],
        [
         "time, or has your estimate of neutral come down, in light of the recent volatility in markets?  "
        ],
        [
         "Thanks. "
        ],
        [
         "CHAIRMAN POWELL.  So the range of estimates on the Committee starts at "
        ],
        [
         "2½ percent , and th at’s kind of roughly where we currently are.  And as I ’ve said a couple of "
        ],
        [
         "times, when you get to that range —you know that we can ’t directly observe the neutral rate.  We January 30, 2019  Chairman Powell’s Press C onference  FINAL  "
        ],
        [
         "Page 20 of 24  only know it by its works.  And so we have to put aside our own priors of what that r ate might be "
        ],
        [
         "and let the data speak to us.  So we can do that.  We’re in the range.  There are a number of "
        ],
        [
         "Committee members who are, you know, right around that range.  And I think we ’re watching "
        ],
        [
         "to see. "
        ],
        [
         "We don’ t—I don’t —again, I think that our policy sta nce today is appropriate for the state "
        ],
        [
         "of the economy.  That ’s my feeling.  We’ re going to be watching data to see whether that ’s right , "
        ],
        [
         "and we ’re also going to be watching data to see how these crosscurrents resolve themselves and "
        ],
        [
         "how the U.S. economy performs this year.  "
        ],
        [
         "VIRGINIE MONTET.  Thank you.  Virginie  Montet with Agence France -Presse.  "
        ],
        [
         "Among the global developments that the Fed is monitoring, how much of a risk for the American "
        ],
        [
         "expansion would be the prospect of a “hard” Brexit?  "
        ],
        [
         "CHAIRMAN POWELL.   So we ’ve been monitoring the Brexit situation very carefully "
        ],
        [
         "for a long time.   And for us, that starts with U.S. financial institutions that have a presence either "
        ],
        [
         "in the U .K. or in the EU or both.  So we have worked with those institutions alongside U .K. and "
        ],
        [
         "EU regulators to assure ourselves that those firms have plans and have liquidity and have all of "
        ],
        [
         "the things they will need to deal with the full range of Brexit outcomes.  So we ’ve done a lot of "
        ],
        [
         "work on that , and, generally speaking —again, a lot of w ork has been done —we have to be "
        ],
        [
         "humble and say that this is an unprecedented event.  But that ’s the financial system aspect of it.  "
        ],
        [
         "If there is a hard Brexit, then that would very likely involve disruptions both to the "
        ],
        [
         "continental economy and certainly to t he U .K. economy , and we would feel that.  The question "
        ],
        [
         "for us —it wouldn’ t be a huge first -order thing, the economic effects, unless you saw financial "
        ],
        [
         "disruptions.  So , if you saw financial turmoil and that kind of thing, that would be the way it "
        ],
        [
         "would reach us.  January 30, 2019  Chairman Powell’s Press C onference  FINAL  "
        ],
        [
         "Page 21 of 24  I would expect that we would feel some of this , and it’ s very hard to have great "
        ],
        [
         "confidence that you know what that would be .  But it would be something —probably  not "
        ],
        [
         "material to our economy , but it’ s something we ’ll be watching very carefully and certainly "
        ],
        [
         "hoping that there is a resolution short of a hard Brexit.  "
        ],
        [
         "JEAN YUNG.   Hi, I’m Jean Yung with Market News.   I have a question about the "
        ],
        [
         "ultimate size of the bala nce sheet.  How will the Fed judge what is a reasonable level for "
        ],
        [
         "financial institution s’ demand for reserves when it appears to be rising at a fast pace over the past "
        ],
        [
         "year and perhaps at a faster pace than can be explained by regulatory changes during that same "
        ],
        [
         "time frame?  Would you prefer to err on the side of being more generous, or would you try to "
        ],
        [
         "encourage banks from holding —to hold less reserves?  "
        ],
        [
         "CHAIRMAN POWELL.  Let me be clear .  I don ’t know that demand for reserves has "
        ],
        [
         "risen over the past years.   I think our understanding of demand for reserves —remember that the "
        ],
        [
         "banks have more reserves th an they need.  Reserves are still quite abundant.  "
        ],
        [
         "So the question is, how much of that amount is actually going to be needed in the end "
        ],
        [
         "after, you know, after t he firms adjust to our very gradual decrease?  And so our understanding , "
        ],
        [
         "really , of the distribution of reserves and how much will be needed has moved up over the past "
        ],
        [
         "year.  And then there would be a buffer on top of that.  And then we would want to be —we  "
        ],
        [
         "would want to have a buffer, as I mentioned in my remarks, because we want to be operating in "
        ],
        [
         "an abundant reserves regime where we operate through our administered rates. "
        ],
        [
         "If you operate too close to that point of scarcity, then you wind up having to have these "
        ],
        [
         "big, ongoing interventions in the market.  We don’ t want the Fed to have a, you know, a large "
        ],
        [
         "ongoing presence in the market around this.  We ’d rather just, you know —in managing the January 30, 2019  Chairman Powell’s Press C onference  FINAL  "
        ],
        [
         "Page 22 of 24  federal funds rate, we ’d rather have it set by our administered rate s.  So that implies you’d want "
        ],
        [
         "to be a bit above what that equilibrium demand for reserves is.  "
        ],
        [
         "And, again, there’ s no cookbook here, there ’s no playbook.  No one really knows.  The "
        ],
        [
         "only way you can figure it out is by surveying people and market intelligen ce and then, "
        ],
        [
         "ultimately, by approaching that point quite carefully.  "
        ],
        [
         "JEAN YUNG.  But do you take the survey result s as given , or do you try to encourage "
        ],
        [
         "banks from holding a [inaudible ]? "
        ],
        [
         "CHAIRMAN POWELL.  We don’ t take— you know, we don’ t think we have a precise "
        ],
        [
         "understanding of this at all.  I want to be clear about that.   These estimates are fairly uncertain.  "
        ],
        [
         "So if you think that the level of demand for reserves is here  [gesturing with hands together, in the "
        ],
        [
         "middle] , all you can say is , it’s probably somewhere in this range  [gesturing with hands apart, "
        ],
        [
         "equidistant from the middle] . "
        ],
        [
         "If banks want to use reserves for a good and sufficient reason— which is to say , to hold "
        ],
        [
         "liquidity as we require them to do to meet the liquidity coverage ratio , to meet their resolution "
        ],
        [
         "requirements and resolution planning —we ’re not going to discourage them from holding them.  "
        ],
        [
         "They are , in fact , a very safe asset —in a way, the safest asset.  And we want the banks to be safe "
        ],
        [
         "and sound. "
        ],
        [
         "We didn’ t create the reserv es, you know, with that in mind, but, you know, since —in the "
        ],
        [
         "post-crisis, you know, regulatory regime, we have brand- new and quite substantial liquidity "
        ],
        [
         "requirements, which are very good and which have great public benefit.  So it’ s not a bad thing "
        ],
        [
         "that ba nks hold onto these reserves or another safe asset.  We don’ t—we ’re not encouraging "
        ],
        [
         "them to hold reserves inste ad of T reasuries .  Treasuries or reserves  are roughly equivalent for "
        ],
        [
         "this purpose. January 30, 2019  Chairman Powell’s Press C onference  FINAL  "
        ],
        [
         "Page 23 of 24  COURTENAY BROWN.  Hi, Mr. Chairman.  Courtenay Brown from Axios.   A data-"
        ],
        [
         "dependency question:  H as there been a prioritization of market data over the economic data?   "
        ],
        [
         "How do you balance those two things?  "
        ],
        [
         "CHAIRMAN POWELL.  I would say that, you know, our mandate is maximum "
        ],
        [
         "employment and stable prices , and that ’s about, you know, hard, real -side economic data.  We —"
        ],
        [
         "as I mentioned earlier, we —our tool, you know, our interest rate tool operates on the economy "
        ],
        [
         "through financial conditions.  So financial conditions matter , and they matter in the way that I "
        ],
        [
         "suggested ear lier—which is to say , broad financial conditions changing over a sustained "
        ],
        [
         "period—that has implications for the macroeconomy .  It does.  So if you lower interest rates and "
        ],
        [
         "they stay low, every borrower in the country ultimately has a lower interest rate.  That ’ll have an "
        ],
        [
         "effect on —over time , an effect on the economy.  But, again, the entire focus we have is on "
        ],
        [
         "maximum employment and stable prices, not on any particular financial market or financial "
        ],
        [
         "conditions generally.  "
        ],
        [
         "MYLES UDLAND.  Chairman Powell, Myles Udland with Yahoo Finance.   I would just "
        ],
        [
         "ask, I guess, about the balance sheet in general .  And are you surprised at how much of a "
        ],
        [
         "conversation we ’re having around the balance sheet , and how much talk about the balance sheet "
        ],
        [
         "from you rself and various Fed official s have moved financial markets?  Because putting out a "
        ],
        [
         "statement, clarifying your view on the balance sheet, you know, is somewhat surprising, "
        ],
        [
         "considering it is restating, you know, what the Fed had said all along was the goal  with balance "
        ],
        [
         "sheet normalization —to roll it off, not have it be a key part of policy.  And so I would just ask, "
        ],
        [
         "are you surprised by how far that conversation has gotten just in the last six weeks?  "
        ],
        [
         "CHAIRMAN POWELL.   You know, I’ll quickly go back—in 2017, we were—in "
        ],
        [
         "designing the normalization plan, we were concerned at not having two active tools of policy.  January 30, 2019  Chairman Powell’s Press C onference  FINAL  "
        ],
        [
         "Page 24 of 24  We learned during the taper tantrum, frankly, in 2013 that was —that would be confusing to "
        ],
        [
         "markets.  So what we did was we set up the normalization of  the balance sheet in a way that was "
        ],
        [
         "very transparent so that you could look and know really, certainly as to T reasuries , pretty much "
        ],
        [
         "the exact amounts and the timing in which we would be returning these assets to private hands.  "
        ],
        [
         "And we put that out there very publicly and in the hope that it would be priced  in and "
        ],
        [
         "understood, and that then we could put the balance sheet on the side and have inter est rates be "
        ],
        [
         "the active tool of  policy.  "
        ],
        [
         "So that went along that way very well, and I think that division of labor was a good one "
        ],
        [
         "for our policy and for the benefit of the country.  I think that there’s —I think  the market is now "
        ],
        [
         "looking for more clarity around that , and I think we’ll be providing it.  That ’s what ’s happened.  "
        ],
        [
         "Thanks very much.  "
        ]
       ],
       "datasetInfos": [],
       "dbfsResultPath": null,
       "isJsonSchema": true,
       "metadata": {},
       "overflow": false,
       "plotOptions": {
        "customPlotOptions": {},
        "displayType": "table",
        "pivotAggregation": null,
        "pivotColumns": null,
        "xColumns": null,
        "yColumns": null
       },
       "removedWidgets": [],
       "schema": [
        {
         "metadata": "{}",
         "name": "value",
         "type": "\"string\""
        }
       ],
       "type": "table"
      }
     },
     "output_type": "display_data"
    }
   ],
   "source": [
    "df = spark.table('workspace.default.fomc_presconf_10years').filter('value is not null and value != \"\" and value != \" \"')\n",
    "\n",
    "display(df)"
   ]
  },
  {
   "cell_type": "code",
   "execution_count": 0,
   "metadata": {
    "application/vnd.databricks.v1+cell": {
     "cellMetadata": {
      "byteLimit": 2048000,
      "rowLimit": 10000
     },
     "inputWidgets": {},
     "nuid": "1b52df4b-175f-4a17-ae69-efa5def92a28",
     "showTitle": false,
     "title": ""
    }
   },
   "outputs": [
    {
     "output_type": "display_data",
     "data": {
      "text/plain": [
       "536"
      ]
     },
     "metadata": {},
     "output_type": "display_data"
    },
    {
     "output_type": "display_data",
     "data": {
      "text/html": [
       "<style scoped>\n",
       "  .table-result-container {\n",
       "    max-height: 300px;\n",
       "    overflow: auto;\n",
       "  }\n",
       "  table, th, td {\n",
       "    border: 1px solid black;\n",
       "    border-collapse: collapse;\n",
       "  }\n",
       "  th, td {\n",
       "    padding: 5px;\n",
       "  }\n",
       "  th {\n",
       "    text-align: left;\n",
       "  }\n",
       "</style><div class='table-result-container'><table class='table-result'><thead style='background-color: white'><tr><th>value</th></tr></thead><tbody><tr><td>January 30, 2019  Chairman Powell’s Press C onference  FINAL  </td></tr><tr><td>Page 1 of 24  Transcript of Chair man  Powell’s Press Conference  </td></tr><tr><td>January 30, 2019 </td></tr><tr><td>CHAIRMAN POWELL .  Good afternoon, everyone, and welcome.  I will start with a </td></tr><tr><td>recap of our discussions, including our assessment of the outlook for the economy and the </td></tr></tbody></table></div>"
      ]
     },
     "metadata": {
      "application/vnd.databricks.v1+output": {
       "addedWidgets": {},
       "aggData": [],
       "aggError": "",
       "aggOverflow": false,
       "aggSchema": [],
       "aggSeriesLimitReached": false,
       "aggType": "",
       "arguments": {},
       "columnCustomDisplayInfos": {},
       "data": [
        [
         "January 30, 2019  Chairman Powell’s Press C onference  FINAL  "
        ],
        [
         "Page 1 of 24  Transcript of Chair man  Powell’s Press Conference  "
        ],
        [
         "January 30, 2019 "
        ],
        [
         "CHAIRMAN POWELL .  Good afternoon, everyone, and welcome.  I will start with a "
        ],
        [
         "recap of our discussions, including our assessment of the outlook for the economy and the "
        ]
       ],
       "datasetInfos": [],
       "dbfsResultPath": null,
       "isJsonSchema": true,
       "metadata": {},
       "overflow": false,
       "plotOptions": {
        "customPlotOptions": {},
        "displayType": "table",
        "pivotAggregation": null,
        "pivotColumns": null,
        "xColumns": null,
        "yColumns": null
       },
       "removedWidgets": [],
       "schema": [
        {
         "metadata": "{}",
         "name": "value",
         "type": "\"string\""
        }
       ],
       "type": "table"
      }
     },
     "output_type": "display_data"
    }
   ],
   "source": [
    "pdf = df.toPandas()\n",
    "\n",
    "display(len(pdf))\n",
    "display(pdf.head())"
   ]
  },
  {
   "cell_type": "code",
   "execution_count": 0,
   "metadata": {
    "application/vnd.databricks.v1+cell": {
     "cellMetadata": {
      "byteLimit": 2048000,
      "rowLimit": 10000
     },
     "inputWidgets": {},
     "nuid": "a8715380-d871-495d-b957-47b9a9b338b1",
     "showTitle": false,
     "title": ""
    }
   },
   "outputs": [
    {
     "output_type": "stream",
     "name": "stderr",
     "output_type": "stream",
     "text": [
      "/local_disk0/.ephemeral_nfs/envs/pythonEnv-4789d38a-7561-4c9a-adf9-7034d3a6fd0d/lib/python3.10/site-packages/transformers/tokenization_utils_base.py:1617: FutureWarning: `clean_up_tokenization_spaces` was not set. It will be set to `True` by default. This behavior will be deprecated in transformers v4.45, and will be then set to `False` by default. For more details check this issue: https://github.com/huggingface/transformers/issues/31884\n  warnings.warn(\n"
     ]
    }
   ],
   "source": [
    "from sentence_transformers import SentenceTransformer\n",
    "from langchain.text_splitter import RecursiveCharacterTextSplitter\n",
    "import os\n",
    "\n",
    "text_splitter = RecursiveCharacterTextSplitter(\n",
    "    chunk_size=100,\n",
    "    chunk_overlap=50\n",
    ")\n",
    "\n",
    "all_texts = pdf['value'].tolist()\n",
    "split_texts = text_splitter.split_text(\" \".join(all_texts))\n",
    "embeddings = SentenceTransformer('all-MiniLM-L6-v2').encode(split_texts)"
   ]
  },
  {
   "cell_type": "code",
   "execution_count": 0,
   "metadata": {
    "application/vnd.databricks.v1+cell": {
     "cellMetadata": {
      "byteLimit": 2048000,
      "rowLimit": 10000
     },
     "inputWidgets": {},
     "nuid": "35cde79a-e78b-4022-bc7f-badae968398d",
     "showTitle": false,
     "title": ""
    }
   },
   "outputs": [
    {
     "output_type": "stream",
     "name": "stdout",
     "output_type": "stream",
     "text": [
      "<class 'list'> <class 'list'> <class 'numpy.ndarray'>\n536 6561 (6561, 384)\n"
     ]
    }
   ],
   "source": [
    "print(type(all_texts), type(split_texts), type(embeddings))\n",
    "print(len(all_texts), len(split_texts), embeddings.shape)"
   ]
  },
  {
   "cell_type": "code",
   "execution_count": 0,
   "metadata": {
    "application/vnd.databricks.v1+cell": {
     "cellMetadata": {
      "byteLimit": 2048000,
      "rowLimit": 10000
     },
     "inputWidgets": {},
     "nuid": "557db6a6-80e7-4cb8-8b0a-21d4f30e703c",
     "showTitle": false,
     "title": ""
    }
   },
   "outputs": [],
   "source": [
    "from pyspark.sql import SparkSession\n",
    "from pyspark.sql.types import StructType, StructField, StringType, ArrayType, FloatType\n",
    "\n",
    "vector_data = pd.DataFrame({\n",
    "    'text': split_texts,\n",
    "    'vector': embeddings.tolist()\n",
    "})\n",
    "\n",
    "schema = StructType([\n",
    "    StructField(\"text\", StringType(), True),\n",
    "    StructField(\"vector\", ArrayType(FloatType()), True)\n",
    "])\n",
    "\n",
    "vector_df = SparkSession.builder.getOrCreate().createDataFrame(vector_data, schema)\n",
    "\n",
    "table_path = 'workspace.default.fomc_presconf_10years_vector'\n",
    "vector_df.write.mode('overwrite').saveAsTable(table_path)\n"
   ]
  },
  {
   "cell_type": "code",
   "execution_count": 0,
   "metadata": {
    "application/vnd.databricks.v1+cell": {
     "cellMetadata": {
      "byteLimit": 2048000,
      "rowLimit": 10000
     },
     "inputWidgets": {},
     "nuid": "0dc602df-504c-410c-bbdd-007f48d887c3",
     "showTitle": false,
     "title": ""
    }
   },
   "outputs": [
    {
     "output_type": "stream",
     "name": "stdout",
     "output_type": "stream",
     "text": [
      "+--------------------+--------------------+\n|                text|              vector|\n+--------------------+--------------------+\n|much on that.  Th...|[0.06885268, 0.01...|\n|on that.  Those a...|[0.04153522, 0.02...|\n|that.  Those are ...|[0.051951826, 0.0...|\n|are  great questi...|[0.041080438, 0.0...|\n|great questions ,...|[0.03174615, 0.04...|\n+--------------------+--------------------+\nonly showing top 5 rows\n\n"
     ]
    }
   ],
   "source": [
    "vector_df.show(5)"
   ]
  },
  {
   "cell_type": "code",
   "execution_count": 0,
   "metadata": {
    "application/vnd.databricks.v1+cell": {
     "cellMetadata": {},
     "inputWidgets": {},
     "nuid": "eb078067-81e6-411a-860e-db18b4dfdfa3",
     "showTitle": false,
     "title": ""
    }
   },
   "outputs": [],
   "source": [
    "VECTOR_SEARCH_ENDPOINT_NAME = 'fomc_transcript_endpoint'\n",
    "\n",
    "from databricks.vector_search.client import VectorSearchClient\n",
    "\n",
    "vsc = VectorSearchClient()\n",
    "\n",
    "if not endpoint_exists(vsc, VECTOR_SEARCH_ENDPOINT_NAME):\n",
    "    vsc.create_endpoint(name=VECTOR_SEARCH_ENDPOINT_NAME, endpoint_type='STANDARD')\n",
    "\n",
    "wait_for_vsc_endpoint_ready(vsc, VECTOR_SEARCH_ENDPOINT_NAME)\n",
    "print(f'Endpoint named {VECTOR_SEARCH_ENDPOINT_NAME} is ready')"
   ]
  },
  {
   "cell_type": "code",
   "execution_count": 0,
   "metadata": {
    "application/vnd.databricks.v1+cell": {
     "cellMetadata": {},
     "inputWidgets": {},
     "nuid": "47fe0efc-ead0-4824-a3f6-6b896ffcfb31",
     "showTitle": false,
     "title": ""
    }
   },
   "outputs": [],
   "source": [
    "from databricks.sdk import WorkspaceClient\n",
    "import databricks.sdk.service.catalog as c\n",
    "\n",
    "source_table_path = 'workspace.default.fomc_presconf_10years_vector'\n",
    "vs_index_path = 'workspace.default.fomc_presconf_10years_vector_index'\n",
    "\n",
    "if not index_exsits(vsc, VECTOR_SEARCH_ENDPOINT_NAME, vs_index_path):\n",
    "    print(f'Creating index {vs_index_path} on endpoint {VECTOR_SEARCH_ENDPOINT_NAME} ... ')\n",
    "    vsc.create_delta_sync_index(\n",
    "        endpoint_name=VECTOR_SEARCH_ENDPOINT_NAME,\n",
    "        index_name=vs_index_path,\n",
    "        source_table_name=source_table_path,\n",
    "        pipeline_type='TRIGGERED',\n",
    "        primary_key='id',\n",
    "        embedding_source_column='vector',\n",
    "        embedding_model_endpoint_name='bge_small_en_v1_5-3'\n",
    "    )\n",
    "    wait_for_vsc_endpoint_ready(vsc, VECTOR_SEARCH_ENDPOINT_NAME, vs_index_path)\n",
    "else:\n",
    "    wait_for_vsc_endpoint_ready(vsc, VECTOR_SEARCH_ENDPOINT_NAME, vs_index_path)\n",
    "    vsc.get_index(VECTOR_SEARCH_ENDPOINT_NAME, vs_index_path).sync()\n",
    "\n",
    "\n",
    "prunt(f'index {vs_index_fullname} on table {source_table_fullname} is ready')"
   ]
  },
  {
   "cell_type": "code",
   "execution_count": 0,
   "metadata": {
    "application/vnd.databricks.v1+cell": {
     "cellMetadata": {},
     "inputWidgets": {},
     "nuid": "9eb13e36-de0f-4174-b97c-3202de203cf4",
     "showTitle": false,
     "title": ""
    }
   },
   "outputs": [],
   "source": [
    "import mlflow.deployments\n",
    "\n",
    "deploy_client = mlflow.deployments.get_deploy_client('databricks')\n",
    "\n",
    "question = 'Give me an economic outlook for January next year.'\n",
    "\n",
    "results = vsc.get_index(VECTOR_SEARCH_ENDPOINT_NAME, source_table_path).similarity_search(\n",
    "    query_text=question,\n",
    "    columns=['vector'],\n",
    "    num_results=1\n",
    ")\n",
    "\n",
    "docs = results.get('result', {}).get('data_array', [])\n",
    "docs"
   ]
  }
 ],
 "metadata": {
  "application/vnd.databricks.v1+notebook": {
   "dashboards": [],
   "environmentMetadata": {
    "base_environment": "",
    "client": "1"
   },
   "language": "python",
   "notebookMetadata": {
    "pythonIndentUnit": 4
   },
   "notebookName": "GenAI_test_script",
   "widgets": {}
  }
 },
 "nbformat": 4,
 "nbformat_minor": 0
}
