{
 "cells": [
  {
   "cell_type": "code",
   "execution_count": 0,
   "metadata": {
    "application/vnd.databricks.v1+cell": {
     "cellMetadata": {
      "byteLimit": 2048000,
      "rowLimit": 10000
     },
     "inputWidgets": {},
     "nuid": "272b579c-b6fa-4c32-be29-eb4fe8987e78",
     "showTitle": false,
     "title": ""
    }
   },
   "outputs": [
    {
     "output_type": "stream",
     "name": "stdout",
     "output_type": "stream",
     "text": [
      "+------------------------------------------------------------------------------------------+\n|value                                                                                     |\n+------------------------------------------------------------------------------------------+\n|January 30, 2019  Chairman Powell’s Press C onference  FINAL                              |\n|Page 1 of 24  Transcript of Chair man  Powell’s Press Conference                          |\n|January 30, 2019                                                                          |\n|CHAIRMAN POWELL .  Good afternoon, everyone, and welcome.  I will start with a            |\n|recap of our discussions, including our assessment of the outlook for the economy and the |\n+------------------------------------------------------------------------------------------+\nonly showing top 5 rows\n\n"
     ]
    }
   ],
   "source": [
    "df = spark.table('workspace.default.fomc_presconf_10years').filter('value is not null and value != \"\" and value != \" \"')\n",
    "\n",
    "display(df.show(5, truncate=False))"
   ]
  },
  {
   "cell_type": "code",
   "execution_count": 0,
   "metadata": {
    "application/vnd.databricks.v1+cell": {
     "cellMetadata": {
      "byteLimit": 2048000,
      "rowLimit": 10000
     },
     "inputWidgets": {},
     "nuid": "1b52df4b-175f-4a17-ae69-efa5def92a28",
     "showTitle": false,
     "title": ""
    }
   },
   "outputs": [
    {
     "output_type": "display_data",
     "data": {
      "text/plain": [
       "536"
      ]
     },
     "metadata": {},
     "output_type": "display_data"
    },
    {
     "output_type": "display_data",
     "data": {
      "text/html": [
       "<style scoped>\n",
       "  .table-result-container {\n",
       "    max-height: 300px;\n",
       "    overflow: auto;\n",
       "  }\n",
       "  table, th, td {\n",
       "    border: 1px solid black;\n",
       "    border-collapse: collapse;\n",
       "  }\n",
       "  th, td {\n",
       "    padding: 5px;\n",
       "  }\n",
       "  th {\n",
       "    text-align: left;\n",
       "  }\n",
       "</style><div class='table-result-container'><table class='table-result'><thead style='background-color: white'><tr><th>value</th></tr></thead><tbody><tr><td>January 30, 2019  Chairman Powell’s Press C onference  FINAL  </td></tr><tr><td>Page 1 of 24  Transcript of Chair man  Powell’s Press Conference  </td></tr><tr><td>January 30, 2019 </td></tr><tr><td>CHAIRMAN POWELL .  Good afternoon, everyone, and welcome.  I will start with a </td></tr><tr><td>recap of our discussions, including our assessment of the outlook for the economy and the </td></tr></tbody></table></div>"
      ]
     },
     "metadata": {
      "application/vnd.databricks.v1+output": {
       "addedWidgets": {},
       "aggData": [],
       "aggError": "",
       "aggOverflow": false,
       "aggSchema": [],
       "aggSeriesLimitReached": false,
       "aggType": "",
       "arguments": {},
       "columnCustomDisplayInfos": {},
       "data": [
        [
         "January 30, 2019  Chairman Powell’s Press C onference  FINAL  "
        ],
        [
         "Page 1 of 24  Transcript of Chair man  Powell’s Press Conference  "
        ],
        [
         "January 30, 2019 "
        ],
        [
         "CHAIRMAN POWELL .  Good afternoon, everyone, and welcome.  I will start with a "
        ],
        [
         "recap of our discussions, including our assessment of the outlook for the economy and the "
        ]
       ],
       "datasetInfos": [],
       "dbfsResultPath": null,
       "isJsonSchema": true,
       "metadata": {},
       "overflow": false,
       "plotOptions": {
        "customPlotOptions": {},
        "displayType": "table",
        "pivotAggregation": null,
        "pivotColumns": null,
        "xColumns": null,
        "yColumns": null
       },
       "removedWidgets": [],
       "schema": [
        {
         "metadata": "{}",
         "name": "value",
         "type": "\"string\""
        }
       ],
       "type": "table"
      }
     },
     "output_type": "display_data"
    }
   ],
   "source": [
    "pdf = df.toPandas()\n",
    "\n",
    "display(len(pdf))\n",
    "display(pdf.head())"
   ]
  },
  {
   "cell_type": "code",
   "execution_count": 0,
   "metadata": {
    "application/vnd.databricks.v1+cell": {
     "cellMetadata": {
      "byteLimit": 2048000,
      "rowLimit": 10000
     },
     "inputWidgets": {},
     "nuid": "a8715380-d871-495d-b957-47b9a9b338b1",
     "showTitle": false,
     "title": ""
    }
   },
   "outputs": [
    {
     "output_type": "stream",
     "name": "stderr",
     "output_type": "stream",
     "text": [
      "/local_disk0/.ephemeral_nfs/envs/pythonEnv-4789d38a-7561-4c9a-adf9-7034d3a6fd0d/lib/python3.10/site-packages/transformers/tokenization_utils_base.py:1617: FutureWarning: `clean_up_tokenization_spaces` was not set. It will be set to `True` by default. This behavior will be deprecated in transformers v4.45, and will be then set to `False` by default. For more details check this issue: https://github.com/huggingface/transformers/issues/31884\n  warnings.warn(\n"
     ]
    }
   ],
   "source": [
    "from sentence_transformers import SentenceTransformer\n",
    "from langchain.text_splitter import RecursiveCharacterTextSplitter\n",
    "import os\n",
    "\n",
    "text_splitter = RecursiveCharacterTextSplitter(\n",
    "    chunk_size=100,\n",
    "    chunk_overlap=50\n",
    ")\n",
    "\n",
    "all_texts = pdf['value'].tolist()\n",
    "split_texts = text_splitter.split_text(\" \".join(all_texts))\n",
    "embeddings = SentenceTransformer('all-MiniLM-L6-v2').encode(split_texts)"
   ]
  },
  {
   "cell_type": "code",
   "execution_count": 0,
   "metadata": {
    "application/vnd.databricks.v1+cell": {
     "cellMetadata": {
      "byteLimit": 2048000,
      "rowLimit": 10000
     },
     "inputWidgets": {},
     "nuid": "35cde79a-e78b-4022-bc7f-badae968398d",
     "showTitle": false,
     "title": ""
    }
   },
   "outputs": [
    {
     "output_type": "stream",
     "name": "stdout",
     "output_type": "stream",
     "text": [
      "<class 'list'> <class 'list'> <class 'numpy.ndarray'>\n536 6561 (6561, 384)\n"
     ]
    }
   ],
   "source": [
    "print(type(all_texts), type(split_texts), type(embeddings))\n",
    "print(len(all_texts), len(split_texts), embeddings.shape)"
   ]
  },
  {
   "cell_type": "code",
   "execution_count": 0,
   "metadata": {
    "application/vnd.databricks.v1+cell": {
     "cellMetadata": {
      "byteLimit": 2048000,
      "rowLimit": 10000
     },
     "inputWidgets": {},
     "nuid": "557db6a6-80e7-4cb8-8b0a-21d4f30e703c",
     "showTitle": false,
     "title": ""
    }
   },
   "outputs": [],
   "source": [
    "from pyspark.sql import SparkSession\n",
    "from pyspark.sql.types import StructType, StructField, StringType, ArrayType, FloatType\n",
    "\n",
    "vector_data = pd.DataFrame({\n",
    "    'text': split_texts,\n",
    "    'vector': embeddings.tolist()\n",
    "})\n",
    "\n",
    "schema = StructType([\n",
    "    StructField(\"text\", StringType(), True),\n",
    "    StructField(\"vector\", ArrayType(FloatType()), True)\n",
    "])\n",
    "\n",
    "vector_df = SparkSession.builder.getOrCreate().createDataFrame(vector_data, schema)\n",
    "\n",
    "table_path = 'workspace.default.fomc_presconf_10years_vector'\n",
    "vector_df.write.mode('overwrite').saveAsTable(table_path)\n"
   ]
  },
  {
   "cell_type": "code",
   "execution_count": 0,
   "metadata": {
    "application/vnd.databricks.v1+cell": {
     "cellMetadata": {
      "byteLimit": 2048000,
      "rowLimit": 10000
     },
     "inputWidgets": {},
     "nuid": "0dc602df-504c-410c-bbdd-007f48d887c3",
     "showTitle": false,
     "title": ""
    }
   },
   "outputs": [
    {
     "output_type": "stream",
     "name": "stdout",
     "output_type": "stream",
     "text": [
      "+--------------------+--------------------+\n|                text|              vector|\n+--------------------+--------------------+\n|much on that.  Th...|[0.06885268, 0.01...|\n|on that.  Those a...|[0.04153522, 0.02...|\n|that.  Those are ...|[0.051951826, 0.0...|\n|are  great questi...|[0.041080438, 0.0...|\n|great questions ,...|[0.03174615, 0.04...|\n+--------------------+--------------------+\nonly showing top 5 rows\n\n"
     ]
    }
   ],
   "source": [
    "vector_df.show(5)"
   ]
  },
  {
   "cell_type": "code",
   "execution_count": 0,
   "metadata": {
    "application/vnd.databricks.v1+cell": {
     "cellMetadata": {},
     "inputWidgets": {},
     "nuid": "eb078067-81e6-411a-860e-db18b4dfdfa3",
     "showTitle": false,
     "title": ""
    }
   },
   "outputs": [],
   "source": [
    "VECTOR_SEARCH_ENDPOINT_NAME = 'fomc_transcript_endpoint'\n",
    "\n",
    "from databricks.vector_search.client import VectorSearchClient\n",
    "\n",
    "vsc = VectorSearchClient()\n",
    "\n",
    "if not endpoint_exists(vsc, VECTOR_SEARCH_ENDPOINT_NAME):\n",
    "    vsc.create_endpoint(name=VECTOR_SEARCH_ENDPOINT_NAME, endpoint_type='STANDARD')\n",
    "\n",
    "wait_for_vsc_endpoint_ready(vsc, VECTOR_SEARCH_ENDPOINT_NAME)\n",
    "print(f'Endpoint named {VECTOR_SEARCH_ENDPOINT_NAME} is ready')"
   ]
  },
  {
   "cell_type": "code",
   "execution_count": 0,
   "metadata": {
    "application/vnd.databricks.v1+cell": {
     "cellMetadata": {},
     "inputWidgets": {},
     "nuid": "47fe0efc-ead0-4824-a3f6-6b896ffcfb31",
     "showTitle": false,
     "title": ""
    }
   },
   "outputs": [],
   "source": [
    "from databricks.sdk import WorkspaceClient\n",
    "import databricks.sdk.service.catalog as c\n",
    "\n",
    "source_table_path = 'workspace.default.fomc_presconf_10years_vector'\n",
    "vs_index_path = 'workspace.default.fomc_presconf_10years_vector_index'\n",
    "\n",
    "if not index_exsits(vsc, VECTOR_SEARCH_ENDPOINT_NAME, vs_index_path):\n",
    "    print(f'Creating index {vs_index_path} on endpoint {VECTOR_SEARCH_ENDPOINT_NAME} ... ')\n",
    "    vsc.create_delta_sync_index(\n",
    "        endpoint_name=VECTOR_SEARCH_ENDPOINT_NAME,\n",
    "        index_name=vs_index_path,\n",
    "        source_table_name=source_table_path,\n",
    "        pipeline_type='TRIGGERED',\n",
    "        primary_key='id',\n",
    "        embedding_source_column='vector',\n",
    "        embedding_model_endpoint_name='bge_small_en_v1_5-3'\n",
    "    )\n",
    "    wait_for_vsc_endpoint_ready(vsc, VECTOR_SEARCH_ENDPOINT_NAME, vs_index_path)\n",
    "else:\n",
    "    wait_for_vsc_endpoint_ready(vsc, VECTOR_SEARCH_ENDPOINT_NAME, vs_index_path)\n",
    "    vsc.get_index(VECTOR_SEARCH_ENDPOINT_NAME, vs_index_path).sync()\n",
    "\n",
    "\n",
    "prunt(f'index {vs_index_fullname} on table {source_table_fullname} is ready')"
   ]
  },
  {
   "cell_type": "code",
   "execution_count": 0,
   "metadata": {
    "application/vnd.databricks.v1+cell": {
     "cellMetadata": {},
     "inputWidgets": {},
     "nuid": "9eb13e36-de0f-4174-b97c-3202de203cf4",
     "showTitle": false,
     "title": ""
    }
   },
   "outputs": [],
   "source": [
    "import mlflow.deployments\n",
    "\n",
    "deploy_client = mlflow.deployments.get_deploy_client('databricks')\n",
    "\n",
    "question = 'Give me an economic outlook for January next year.'\n",
    "\n",
    "results = vsc.get_index(VECTOR_SEARCH_ENDPOINT_NAME, source_table_path).similarity_search(\n",
    "    query_text=question,\n",
    "    columns=['vector'],\n",
    "    num_results=1\n",
    ")\n",
    "\n",
    "docs = results.get('result', {}).get('data_array', [])\n",
    "docs"
   ]
  }
 ],
 "metadata": {
  "application/vnd.databricks.v1+notebook": {
   "dashboards": [],
   "environmentMetadata": {
    "base_environment": "",
    "client": "1"
   },
   "language": "python",
   "notebookMetadata": {
    "pythonIndentUnit": 4
   },
   "notebookName": "GenAI_test_script",
   "widgets": {}
  }
 },
 "nbformat": 4,
 "nbformat_minor": 0
}
